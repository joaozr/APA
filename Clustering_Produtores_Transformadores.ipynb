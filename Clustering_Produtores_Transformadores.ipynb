{
 "cells": [
  {
   "cell_type": "markdown",
   "id": "4af2d8f8-9c7a-458e-84aa-af6cca492015",
   "metadata": {},
   "source": [
    "### Deteção de anomalias em dados de gestão de resíduos em Portugal\n",
    "\n",
    "##### João Ribeiro"
   ]
  },
  {
   "cell_type": "markdown",
   "id": "5a022351-1f65-482d-935a-64d5596f3b40",
   "metadata": {},
   "source": [
    "## <span style=\"color:Darkgreen\"> 1. Clustering Produtores  </span> "
   ]
  },
  {
   "cell_type": "code",
   "execution_count": null,
   "id": "8979317c",
   "metadata": {},
   "outputs": [],
   "source": [
    "# Bibliotecas \n",
    "import pandas as pd\n",
    "import numpy as np\n",
    "import warnings\n",
    "import re\n",
    "from sklearn.cluster import KMeans\n",
    "from sklearn.preprocessing import StandardScaler\n",
    "from collections import Counter\n",
    "import seaborn as sns\n",
    "import matplotlib.pyplot as plt\n",
    "from sklearn.metrics import silhouette_score\n",
    "from sklearn.decomposition import PCA\n",
    "warnings.filterwarnings(\"ignore\")"
   ]
  },
  {
   "cell_type": "markdown",
   "id": "a2490cd4-3729-40ab-9ba6-8b4023d9b67d",
   "metadata": {},
   "source": [
    "### <span style=\"color:Darkgreen\"> 1.1. Clustering Produtores sem CAE  </span> "
   ]
  },
  {
   "cell_type": "code",
   "execution_count": null,
   "id": "b9a892c1",
   "metadata": {},
   "outputs": [],
   "source": [
    "df_clustering_inicial= pd.read_excel('produtores_modelos.xlsx')"
   ]
  },
  {
   "cell_type": "code",
   "execution_count": null,
   "id": "6482a13d",
   "metadata": {},
   "outputs": [],
   "source": [
    "df_clustering_inicial.columns"
   ]
  },
  {
   "cell_type": "code",
   "execution_count": null,
   "id": "afecf7ef",
   "metadata": {},
   "outputs": [],
   "source": [
    "df_clustering_inicial.dtypes"
   ]
  },
  {
   "cell_type": "code",
   "execution_count": null,
   "id": "ec9fa11f",
   "metadata": {},
   "outputs": [],
   "source": [
    "with pd.option_context('display.max_rows', None, 'display.max_columns', None):\n",
    "    display(df_clustering_inicial.head())"
   ]
  },
  {
   "cell_type": "code",
   "execution_count": null,
   "id": "6f05b275",
   "metadata": {},
   "outputs": [],
   "source": [
    "df_clustering_inicial.info()"
   ]
  },
  {
   "cell_type": "code",
   "execution_count": null,
   "id": "73b0f940",
   "metadata": {},
   "outputs": [],
   "source": [
    "# Substituir os valores da coluna 'ler_codigo'\n",
    "df_clustering_inicial['codigos_ler_associados'] = df_clustering_inicial['codigos_ler_associados'].replace({\n",
    "    'Compósitos':150105,\n",
    "    'Misturas':150106 ,\n",
    "    'Embalagens c/ resíduos ou contaminadas':150110\n",
    "})"
   ]
  },
  {
   "cell_type": "code",
   "execution_count": null,
   "id": "b192ff44",
   "metadata": {},
   "outputs": [],
   "source": [
    "media_quantidade_total = df_clustering_inicial['quantidade_total'].mean()\n",
    "media_quantidade_total"
   ]
  },
  {
   "cell_type": "code",
   "execution_count": null,
   "id": "ddf9e0e7",
   "metadata": {},
   "outputs": [],
   "source": [
    "df_clustering_inicial = pd.get_dummies(df_clustering_inicial, columns=['codigos_ler_associados'])"
   ]
  },
  {
   "cell_type": "code",
   "execution_count": null,
   "id": "235d3524",
   "metadata": {},
   "outputs": [],
   "source": [
    "df_clustering_inicial['mercadoria_perigosa_transformada'] = np.where(df_clustering_inicial['mercadorias_perigosas'], 1, 0)"
   ]
  },
  {
   "cell_type": "code",
   "execution_count": null,
   "id": "a9d33aca",
   "metadata": {},
   "outputs": [],
   "source": [
    "df_clustering_inicial.head()"
   ]
  },
  {
   "cell_type": "code",
   "execution_count": null,
   "id": "d13348ed",
   "metadata": {},
   "outputs": [],
   "source": [
    "desvio_padrao_quantidade_total = df_clustering_inicial['quantidade_total'].std()\n",
    "\n",
    "# Normalização com Z-Score\n",
    "df_clustering_inicial['quantidade_total_normalizada'] = df_clustering_inicial['quantidade_total'].apply(\n",
    "    lambda x: (x - media_quantidade_total) / desvio_padrao_quantidade_total\n",
    ")"
   ]
  },
  {
   "cell_type": "code",
   "execution_count": null,
   "id": "4d92bc3c-6eb5-4f5d-a748-422ee3cdc585",
   "metadata": {},
   "outputs": [],
   "source": [
    "# Boxplot para a variável 'quantidade_total_normalizada' para detetar outliers\n",
    "plt.figure(figsize=(8, 6))\n",
    "sns.boxplot(data=df_clustering_inicial['quantidade_total_normalizada'])\n",
    "plt.title('Boxplot da Quantidade total')\n",
    "plt.show()"
   ]
  },
  {
   "cell_type": "code",
   "execution_count": null,
   "id": "09e8508b-4778-43bd-9f87-b8c5a2c71c74",
   "metadata": {},
   "outputs": [],
   "source": [
    "df_clustering_inicial = df_clustering_inicial[df_clustering_inicial['quantidade_total_normalizada'] < 20]"
   ]
  },
  {
   "cell_type": "code",
   "execution_count": null,
   "id": "8655b51d-2695-4f8d-bcaf-fbeba78ae395",
   "metadata": {},
   "outputs": [],
   "source": [
    "df_clustering_inicial.head()"
   ]
  },
  {
   "cell_type": "code",
   "execution_count": null,
   "id": "d20b0e15-7185-4c76-ba19-595be8ecc632",
   "metadata": {},
   "outputs": [],
   "source": [
    "# Boxplot para a variável 'quantidade_total_normalizada' para detetar outliers\n",
    "plt.figure(figsize=(8, 6))\n",
    "sns.boxplot(data=df_clustering_inicial['quantidade_total_normalizada'])\n",
    "plt.title('Boxplot da Quantidade total')\n",
    "plt.show()"
   ]
  },
  {
   "cell_type": "code",
   "execution_count": null,
   "id": "46c6efbb-35df-42e8-860a-cde9d50e21d7",
   "metadata": {},
   "outputs": [],
   "source": [
    "df_clustering_inicial = df_clustering_inicial[df_clustering_inicial['quantidade_total_normalizada'] < 2]"
   ]
  },
  {
   "cell_type": "code",
   "execution_count": null,
   "id": "acf2c833-c7ec-4dce-869f-63589eb9f1b7",
   "metadata": {},
   "outputs": [],
   "source": [
    "# Copia com tratamento feito\n",
    "df_clustering =df_clustering_inicial.copy()"
   ]
  },
  {
   "cell_type": "code",
   "execution_count": null,
   "id": "966993d0-1e2d-4535-bac1-d06807de156b",
   "metadata": {},
   "outputs": [],
   "source": [
    "# Cópia para aceder ao CAE\n",
    "df_clustering_final = df_clustering[['caes_associados']].copy()"
   ]
  },
  {
   "cell_type": "code",
   "execution_count": null,
   "id": "798d0dc8-3265-46a5-b2e1-d0373c5a7e74",
   "metadata": {},
   "outputs": [],
   "source": [
    "# Selecionar colunas a utilizar no K-means\n",
    "colunas_desejadas = ['quantidade_total_normalizada', 'mercadoria_perigosa_transformada', 'codigos_ler_associados_150105',\n",
    "                     'codigos_ler_associados_150106','codigos_ler_associados_150110' ]  \n",
    "df_clustering = df_clustering[colunas_desejadas]"
   ]
  },
  {
   "cell_type": "code",
   "execution_count": null,
   "id": "75d0551b-5fe7-471f-847f-96fa174cf618",
   "metadata": {},
   "outputs": [],
   "source": [
    "scaler = StandardScaler()\n",
    "df_scaled = scaler.fit_transform(df_clustering)"
   ]
  },
  {
   "cell_type": "code",
   "execution_count": null,
   "id": "0f016eb4-409d-4f9a-a331-acaa34abaa96",
   "metadata": {
    "scrolled": true
   },
   "outputs": [],
   "source": [
    "inertias = []\n",
    "\n",
    "# Calcular a inércia para diferentes números de clusters\n",
    "for k in range(1, 11):\n",
    "    kmeans = KMeans(n_clusters=k, random_state=42)\n",
    "    kmeans.fit(df_scaled)\n",
    "    inertias.append(kmeans.inertia_)\n",
    "    \n",
    "plt.figure(figsize=(8, 5))\n",
    "plt.plot(range(1, 11), inertias, marker='o',color='Darkgreen')\n",
    "plt.title('Gráfico do Cotovelo')\n",
    "plt.xlabel('Número de Clusters')\n",
    "plt.ylabel('Inércia')\n",
    "plt.grid(True)\n",
    "plt.show()"
   ]
  },
  {
   "cell_type": "code",
   "execution_count": null,
   "id": "2d676774-325c-4d0c-9979-c7e7da63c4e5",
   "metadata": {},
   "outputs": [],
   "source": [
    "# Escolha do número de clusters com base no gráfico anterior\n",
    "k_ideal = 5\n",
    "kmeans = KMeans(n_clusters=k_ideal, random_state=42)\n",
    "df_clustering_final['cluster'] = kmeans.fit_predict(df_scaled)"
   ]
  },
  {
   "cell_type": "code",
   "execution_count": null,
   "id": "219d9d2b-1d4f-45ff-8f5b-100b34c77292",
   "metadata": {},
   "outputs": [],
   "source": [
    "# Calcular as médias das variáveis por cluster\n",
    "df_clustering['cluster'] = kmeans.labels_\n",
    "media_cluster = df_clustering.groupby('cluster').mean()\n",
    "media_cluster"
   ]
  },
  {
   "cell_type": "code",
   "execution_count": null,
   "id": "5cea1bd6-874e-40c6-8348-b90e04b80460",
   "metadata": {},
   "outputs": [],
   "source": [
    "# Número de produtores alocados a cada cluster\n",
    "cluster_contagem = df_clustering_final['cluster'].value_counts().sort_index()\n",
    "cluster_contagem"
   ]
  },
  {
   "cell_type": "code",
   "execution_count": null,
   "id": "dff6bb8c-dd02-4d9d-afd5-dad6d3747c79",
   "metadata": {},
   "outputs": [],
   "source": [
    "palete = sns.color_palette([\"#003366\",  \"#0033cc\",\"#66b3ff\",\"#003d00\",\"#C0C0C0\",  \"#66cc99\",  \"#800000\", \"#cc6600\"])"
   ]
  },
  {
   "cell_type": "markdown",
   "id": "1fece410-13ef-4e51-bdbc-ed2be8273984",
   "metadata": {},
   "source": [
    "### <span style=\"color:Darkgreen\"> Mercadorias perigosas e Quantidade </span> "
   ]
  },
  {
   "cell_type": "code",
   "execution_count": null,
   "id": "d9080419-5677-4934-b45d-e4edcb5f1f08",
   "metadata": {},
   "outputs": [],
   "source": [
    "plt.figure(figsize=(8, 5))\n",
    "sns.scatterplot(data=df_clustering, x='quantidade_total_normalizada', y='mercadoria_perigosa_transformada', hue='cluster', palette=palete, s=100, alpha=0.7)\n",
    "plt.title('Clusters com Mercadorias Perigosas')\n",
    "plt.xlabel('Quantidade Total')\n",
    "plt.ylabel('Mercadoria Perigosa') \n",
    "plt.show()"
   ]
  },
  {
   "cell_type": "code",
   "execution_count": null,
   "id": "bc4ca408-eaeb-4d6f-b971-87c4f1c4abd0",
   "metadata": {},
   "outputs": [],
   "source": [
    "df_merc_perig = df_clustering[df_clustering['mercadoria_perigosa_transformada'] == 1]\n",
    "\n",
    "# Contar o número de pontos em cada cluster em que é uma mercadoria Perigosa\n",
    "cluster_countagem = df_merc_perig['cluster'].value_counts().reset_index()\n",
    "cluster_countagem.columns = ['Cluster', 'Contagem']\n",
    "cluster_countagem"
   ]
  },
  {
   "cell_type": "markdown",
   "id": "d52b7bb3-3ebc-4e28-bc4b-21869101ab22",
   "metadata": {},
   "source": [
    "### <span style=\"color:Darkgreen\"> Compósitos (150105) </span> "
   ]
  },
  {
   "cell_type": "code",
   "execution_count": null,
   "id": "759d2ad6-396a-4bde-a9c3-50e3f08cdfee",
   "metadata": {},
   "outputs": [],
   "source": [
    "plt.figure(figsize=(10, 6))\n",
    "sns.scatterplot(data=df_clustering, x='quantidade_total_normalizada', y='codigos_ler_associados_150105', hue='cluster',\n",
    "                palette=palete, s=200, alpha=0.7)\n",
    "plt.title('Clusters com compósitos')\n",
    "plt.xlabel('Quantidade Total')\n",
    "plt.ylabel('Resíduos Compósitos') \n",
    "plt.show()"
   ]
  },
  {
   "cell_type": "code",
   "execution_count": null,
   "id": "78febcc2-de7f-47a5-9306-5ac11863ae57",
   "metadata": {},
   "outputs": [],
   "source": [
    "df_codigos_105 = df_clustering[df_clustering['codigos_ler_associados_150105'] == 1]\n",
    "\n",
    "# Contar o número de pontos em cada cluster em que é um resíduo Compósito\n",
    "cluster_contagem = df_codigos_105['cluster'].value_counts().reset_index()\n",
    "cluster_contagem.columns = ['Cluster', 'Count']\n",
    "cluster_contagem"
   ]
  },
  {
   "cell_type": "code",
   "execution_count": null,
   "id": "ab2228be-6888-4baf-9184-48b1c7c7999d",
   "metadata": {},
   "outputs": [],
   "source": [
    "df_filtered = df_clustering[df_clustering['codigos_ler_associados_150105'] == 0]\n",
    "\n",
    " # Contar o número de pontos em cada cluster em que não é um resíduo Compósito\n",
    "cluster_contagem = df_filtered['cluster'].value_counts().reset_index()\n",
    "cluster_contagem.columns = ['Cluster', 'Count']\n",
    "cluster_contagem"
   ]
  },
  {
   "cell_type": "markdown",
   "id": "1a0bb4f0-00c5-459e-9907-1d7702e061c3",
   "metadata": {},
   "source": [
    "### <span style=\"color:Darkgreen\"> Misutas (150106) </span> "
   ]
  },
  {
   "cell_type": "code",
   "execution_count": null,
   "id": "cab7c6d9-68ca-4c9e-afe8-a333f6d11532",
   "metadata": {},
   "outputs": [],
   "source": [
    "plt.figure(figsize=(10, 6))\n",
    "sns.scatterplot(data=df_clustering, x='quantidade_total_normalizada', y='codigos_ler_associados_150106', hue='cluster', palette=palete, s=200, alpha=0.7)\n",
    "plt.title('Clusters com Resíduos Mistura')\n",
    "plt.xlabel('Quantidade Total')\n",
    "plt.ylabel('Resíduos Misturas') \n",
    "plt.show()"
   ]
  },
  {
   "cell_type": "code",
   "execution_count": null,
   "id": "0064be89-de72-46e0-8f0f-8798ff5f4cc8",
   "metadata": {},
   "outputs": [],
   "source": [
    "df_codigos_106 = df_clustering[df_clustering['codigos_ler_associados_150106'] == 1]\n",
    "# Contar o número de pontos em cada cluster em que é uma Mistura\n",
    "cluster_contagem = df_codigos_106['cluster'].value_counts().reset_index()\n",
    "cluster_contagem.columns = ['Cluster', 'Count']\n",
    "cluster_contagem"
   ]
  },
  {
   "cell_type": "markdown",
   "id": "2e44d908-937c-4ce9-97f6-0bf4b0666c39",
   "metadata": {},
   "source": [
    "### <span style=\"color:Darkgreen\"> Embalagens c/ resíduos ou contaminadas (150110) </span> "
   ]
  },
  {
   "cell_type": "code",
   "execution_count": null,
   "id": "768d0267-b221-437d-b7c2-86eae6bd09b4",
   "metadata": {},
   "outputs": [],
   "source": [
    "plt.figure(figsize=(12, 6))\n",
    "sns.scatterplot(data=df_clustering, x='quantidade_total_normalizada', y='codigos_ler_associados_150110', hue='cluster', \n",
    "                palette=palete, s=200, alpha=0.7)\n",
    "plt.title('Clusters Embalagens c/ resíduos ou contaminadas e Quantidade')\n",
    "plt.xlabel('Quantidade Total')\n",
    "plt.ylabel('Embalagens c/ resíduos ou contaminadas ')\n",
    "plt.show()"
   ]
  },
  {
   "cell_type": "code",
   "execution_count": null,
   "id": "77711b6c-0337-4511-84c7-600db07bd438",
   "metadata": {},
   "outputs": [],
   "source": [
    "df_codigos_110 = df_clustering[df_clustering['codigos_ler_associados_150110'] == 1]\n",
    "# Contar o número de pontos em cada cluster em que é uma Embalagem c/ resíduos ou contaminadas\n",
    "cluster_contagem = df_codigos_110['cluster'].value_counts().reset_index()\n",
    "cluster_contagem.columns = ['Cluster', 'Count']\n",
    "cluster_contagem"
   ]
  },
  {
   "cell_type": "markdown",
   "id": "ccdcf2fb-ab9c-416c-bff0-38e00e98b204",
   "metadata": {},
   "source": [
    "### <span style=\"color:Darkgreen\"> Medidas Descritivas do Cluster </span> "
   ]
  },
  {
   "cell_type": "code",
   "execution_count": null,
   "id": "ce6d0773-5c36-4774-8bdb-9a5ce441c98e",
   "metadata": {},
   "outputs": [],
   "source": [
    "plt.figure(figsize=(12, 6))\n",
    "sns.countplot(data=df_clustering, x='cluster', color='Darkgreen')\n",
    "plt.title('Número de Pontos em Cada Cluster')\n",
    "plt.show()"
   ]
  },
  {
   "cell_type": "code",
   "execution_count": null,
   "id": "e3a6c3dc-b4bd-46c2-84f0-b4b1d60ff772",
   "metadata": {},
   "outputs": [],
   "source": [
    "# Medidas Descritivas para cada cluster\n",
    "Estatistica = df_clustering.groupby('cluster').agg({\n",
    "    'quantidade_total_normalizada': ['mean', 'min', 'max'],\n",
    "    'mercadoria_perigosa_transformada': ['mean'],\n",
    "    'codigos_ler_associados_150105': ['mean'],\n",
    "    'codigos_ler_associados_150106': ['mean'],\n",
    "    'codigos_ler_associados_150110': ['mean']\n",
    "}).reset_index()\n",
    "\n",
    "print(\"Estatísticas descritivas por cluster:\")\n",
    "Estatistica"
   ]
  },
  {
   "cell_type": "code",
   "execution_count": null,
   "id": "9e84a8c8-2c4e-43d4-b7b3-37b6671da378",
   "metadata": {},
   "outputs": [],
   "source": [
    "# Mapa de calor\n",
    "plt.figure(figsize=(14, 8))\n",
    "ax = sns.heatmap(media_cluster, annot=True, cmap='Greens', cbar=True)\n",
    "plt.title('Médias das Variáveis por Cluster', fontsize=14)\n",
    "plt.xlabel('Variáveis', fontsize=12)\n",
    "plt.ylabel('Clusters', fontsize=12)\n",
    "ax.set_xticklabels(['Quantidade Total', 'Mercadoria Perigosa', 'Resíduos Compósitos', \n",
    "                    'Resíduos Mistura', 'Resíduos Contaminados'], rotation=45, ha='right', fontsize=8)\n",
    "ax.set_yticklabels(ax.get_yticklabels(), ha='right', fontsize=8)\n",
    "plt.show()"
   ]
  },
  {
   "cell_type": "markdown",
   "id": "1ca470a0-2b03-4b11-a7f0-cccddae42621",
   "metadata": {},
   "source": [
    "### <span style=\"color:Darkgreen\"> PCA </span> "
   ]
  },
  {
   "cell_type": "code",
   "execution_count": null,
   "id": "f5addf82-e5d3-47ef-a23e-fa1a876bacf9",
   "metadata": {},
   "outputs": [],
   "source": [
    "pca = PCA(n_components=2) \n",
    "df_pca = pca.fit_transform(df_scaled)\n",
    "\n",
    "# Componentes principais e clusters\n",
    "df_pca = pd.DataFrame(df_pca, columns=['PC1', 'PC2'])\n",
    "df_pca['cluster'] = kmeans.predict(df_scaled)  # Adicionar a coluna de clusters\n",
    "\n",
    "plt.figure(figsize=(12, 8))\n",
    "sns.scatterplot(x='PC1', y='PC2', hue='cluster', data=df_pca, palette=palete, edgecolor='w', s=100)\n",
    "plt.title('PCA dos Dados com KMeans Clustering')\n",
    "plt.xlabel('Componente Principal 1')\n",
    "plt.ylabel('Componente Principal 2')\n",
    "plt.legend(title='Cluster')\n",
    "plt.grid(True)\n",
    "plt.show()"
   ]
  },
  {
   "cell_type": "code",
   "execution_count": null,
   "id": "85eba80d-3ed6-4b49-b097-545bffc09638",
   "metadata": {},
   "outputs": [],
   "source": [
    "silhouette_avg = silhouette_score(df_scaled, df_clustering['cluster'])\n",
    "print(f'Silhouette Score médio: {silhouette_avg}')"
   ]
  },
  {
   "cell_type": "markdown",
   "id": "e222f54b-c8f9-40e7-bcd8-50f560f22c93",
   "metadata": {},
   "source": [
    "**Nota**: valor próximo de 1 indica que as amostras estão muito bem agrupadas dentro de seus próprios clusters e bem separadas dos outros clusters."
   ]
  },
  {
   "cell_type": "markdown",
   "id": "83d136bf-72e9-4ca3-8245-29a423730a25",
   "metadata": {},
   "source": [
    "##### <span style=\"color:Darkgreen\"> CAES associados aos clusters da experiencia 1 - Produtores </span> "
   ]
  },
  {
   "cell_type": "code",
   "execution_count": null,
   "id": "f78183b5-9f18-49ac-b856-25d8fd1e0f28",
   "metadata": {},
   "outputs": [],
   "source": [
    "# Função para extrair o dígito mais frequente\n",
    "def digito_mais_frequente(linha):\n",
    "    # Filtrar e extrair o primeiro dígito de cada número, ignorando \"Inexistente\"\n",
    "    numeros = [num for num in str(linha).split(', ') if num != 'Inexistente']\n",
    "    \n",
    "    if not numeros:  # Se a lista de números estiver vazia, retorna None\n",
    "        return None\n",
    "    \n",
    "    primeiros_digitos = [str(int(float(num)))[0] for num in numeros]\n",
    "    \n",
    "    # Contar a frequência de cada dígito\n",
    "    contagem = Counter(primeiros_digitos)\n",
    "    return contagem.most_common(1)[0][0] if contagem else None\n"
   ]
  },
  {
   "cell_type": "code",
   "execution_count": null,
   "id": "a19f8e59-7697-4b5c-9313-e79ce42a28f3",
   "metadata": {},
   "outputs": [],
   "source": [
    "# Aplicar a função na coluna 'caes_associados' para substituí-la diretamente\n",
    "df_clustering_final['caes_associados'] = df_clustering_final['caes_associados'].apply(digito_mais_frequente)\n",
    "\n",
    "# Remover as linhas onde 'caes_associados' é None (ou seja, quando só havia \"Inexistente\")\n",
    "df_clustering_final.dropna(subset=['caes_associados'], inplace=True)\n",
    "df_clustering_final[['caes_associados']]"
   ]
  },
  {
   "cell_type": "code",
   "execution_count": null,
   "id": "2bded908-886a-4dbf-bf5d-4e7707cc54bc",
   "metadata": {},
   "outputs": [],
   "source": [
    "top_cae_por_cluster = df_clustering_final.groupby('cluster')['caes_associados'].apply(lambda x: x.value_counts().head(3)).reset_index()\n",
    "top_cae_por_cluster.columns = ['cluster', 'cae', 'contagem']\n",
    "top_cae_por_cluster\n"
   ]
  },
  {
   "cell_type": "markdown",
   "id": "e11aa11a-c80f-42cb-946e-2791b94ca242",
   "metadata": {},
   "source": [
    "### <span style=\"color:Darkgreen\"> 1.2. Clustering de Produtores com CAE </span> "
   ]
  },
  {
   "cell_type": "code",
   "execution_count": null,
   "id": "91f693c0-801b-4b30-bb0c-fb43ca30dbed",
   "metadata": {},
   "outputs": [],
   "source": [
    "df_cae=df_clustering_inicial.copy()"
   ]
  },
  {
   "cell_type": "code",
   "execution_count": null,
   "id": "d5265d6b-211f-4058-9d7b-4863ea18ed12",
   "metadata": {
    "scrolled": true
   },
   "outputs": [],
   "source": [
    "df_cae.head()"
   ]
  },
  {
   "cell_type": "code",
   "execution_count": null,
   "id": "4a89f61d-f849-4ffb-a66a-fadfed7aa74c",
   "metadata": {},
   "outputs": [],
   "source": [
    "# Aplicar a função na coluna 'caes_associados' para substituí-la diretamente\n",
    "df_cae['caes_associados'] = df_cae['caes_associados'].apply(digito_mais_frequente)\n",
    "\n",
    "# Remover as linhas onde 'caes_associados' é None (ou seja, quando só havia \"Inexistente\")\n",
    "df_cae.dropna(subset=['caes_associados'], inplace=True)\n",
    "df_cae[['caes_associados']]\n"
   ]
  },
  {
   "cell_type": "code",
   "execution_count": null,
   "id": "96a6cdf1-9922-4100-9f62-3cae6345f8e6",
   "metadata": {},
   "outputs": [],
   "source": [
    "df_cae.head()"
   ]
  },
  {
   "cell_type": "code",
   "execution_count": null,
   "id": "31f18a81-a61c-4fa5-8f55-0ca26f502232",
   "metadata": {},
   "outputs": [],
   "source": [
    "df_cae = pd.get_dummies(df_cae, columns=['caes_associados'])"
   ]
  },
  {
   "cell_type": "code",
   "execution_count": null,
   "id": "5f91330e-84c4-4f0d-ab35-a6ccea874069",
   "metadata": {},
   "outputs": [],
   "source": [
    "df_cae.head()"
   ]
  },
  {
   "cell_type": "code",
   "execution_count": null,
   "id": "3d8f62da-7790-406b-ae80-048b2895f899",
   "metadata": {},
   "outputs": [],
   "source": [
    "# Selecionar colunas a utilizar no K-means\n",
    "colunas_desejadas = [ 'quantidade_total_normalizada', 'mercadoria_perigosa_transformada','codigos_ler_associados_150105',\n",
    "                     'codigos_ler_associados_150106','codigos_ler_associados_150110','caes_associados_1','caes_associados_2',\n",
    "                     'caes_associados_3','caes_associados_4','caes_associados_5',\n",
    "                     'caes_associados_6','caes_associados_7','caes_associados_8','caes_associados_9' ]  \n",
    "df_novo = df_cae[colunas_desejadas]"
   ]
  },
  {
   "cell_type": "code",
   "execution_count": null,
   "id": "8cd917b7-1562-445c-9f4e-d76a3e5bd7ae",
   "metadata": {},
   "outputs": [],
   "source": [
    "scaler = StandardScaler()\n",
    "df_scaled_novo = scaler.fit_transform(df_novo)"
   ]
  },
  {
   "cell_type": "code",
   "execution_count": null,
   "id": "4a67ef7c-a744-4adc-a0d4-114f7742c7fc",
   "metadata": {},
   "outputs": [],
   "source": [
    "inertias = []\n",
    "for k in range(5, 21):\n",
    "    kmeans = KMeans(n_clusters=k, random_state=42)\n",
    "    kmeans.fit(df_scaled_novo)\n",
    "    inertias.append(kmeans.inertia_)\n",
    "    \n",
    "plt.figure(figsize=(8, 5))\n",
    "plt.plot(range(5, 21), inertias, marker='o',color='darkgreen')\n",
    "plt.title('Gráfico do Cotovelo')\n",
    "plt.xlabel('Número de Clusters')\n",
    "plt.ylabel('Inércia')\n",
    "plt.grid(True)\n",
    "plt.show()"
   ]
  },
  {
   "cell_type": "code",
   "execution_count": null,
   "id": "658a78a4-cf4c-4cc8-b1d7-4fda837cf890",
   "metadata": {},
   "outputs": [],
   "source": [
    "k_ideal = 12\n",
    "kmeans = KMeans(n_clusters=k_ideal, random_state=42)\n",
    "df_novo['cluster'] = kmeans.fit_predict(df_scaled_novo)"
   ]
  },
  {
   "cell_type": "code",
   "execution_count": null,
   "id": "78794663-d448-4b11-ac7b-e9f7ea7c1669",
   "metadata": {},
   "outputs": [],
   "source": [
    "silhouette_avg_novo = silhouette_score(df_scaled_novo, df_novo['cluster'])\n",
    "print(f'Silhouette Score médio: {silhouette_avg_novo}')"
   ]
  },
  {
   "cell_type": "code",
   "execution_count": null,
   "id": "d7399f8d-2866-4506-b0b1-5c714477c17e",
   "metadata": {},
   "outputs": [],
   "source": [
    "# Calcular as médias das variáveis por cluster\n",
    "cluster_means2 = df_novo.groupby('cluster').mean()\n",
    "cluster_means2"
   ]
  },
  {
   "cell_type": "code",
   "execution_count": null,
   "id": "a139c9f7-ef23-42e4-b4e0-233bfe69f243",
   "metadata": {},
   "outputs": [],
   "source": [
    "cluster_contagem2 = df_novo['cluster'].value_counts().sort_index()\n",
    "cluster_contagem2"
   ]
  },
  {
   "cell_type": "markdown",
   "id": "2ea0070f-5346-401e-b598-efc9548e24fe",
   "metadata": {},
   "source": [
    "**Signficado do primeiro digito do CAE (Principais Industrias):**\t\n",
    "\n",
    "    1. Agricultura\n",
    "\t2. Indústrias Extrativas\n",
    "\t3. Transformação\n",
    "\t4. Energia, Agua, Resíduos\n",
    "\t5. Construção\n",
    "\t6. Automoveis\n",
    "\t7. Transportes\n",
    "\t8. Alimentação\n",
    "    9. Comunicação"
   ]
  },
  {
   "cell_type": "code",
   "execution_count": null,
   "id": "42a7f7a4-f2d5-4de4-8df4-debae4aedebb",
   "metadata": {},
   "outputs": [],
   "source": [
    "plt.figure(figsize=(12, 6))\n",
    "sns.countplot(data=df_novo, x='cluster', color='Darkgreen')\n",
    "plt.title('Número de Pontos em Cada Cluster')\n",
    "plt.xlabel('Número do Cluster')\n",
    "plt.ylabel('Contagem de Produtores')\n",
    "plt.show()"
   ]
  },
  {
   "cell_type": "code",
   "execution_count": null,
   "id": "fda3f400-aea1-40e5-a2bc-b6a328626369",
   "metadata": {},
   "outputs": [],
   "source": [
    "plt.figure(figsize=(14, 8))\n",
    "\n",
    "# Gera o heatmap\n",
    "ax = sns.heatmap(cluster_means2, annot=True, cmap='Greens', cbar=True)\n",
    "\n",
    "plt.title('Médias das Variáveis por Cluster')\n",
    "\n",
    "# Obtém o número de colunas do teu dataset\n",
    "num_cols = cluster_means2.shape[1]\n",
    "ax.set_xticks([x + 0.5 for x in range(num_cols)])  \n",
    "ax.set_xticklabels(['Quantidade Total', 'Mercadoria Perigosa', 'Resíduos Compósitos', \n",
    "                    'Resíduos Mistura', 'Emb c/ resíduos ou Contaminadas', 'Agricultura, Animais e Pesca', \n",
    "                    'Industrias Extrativas', 'Indústrias Transformadoras', 'Eletricidade, Gás, Vapor, Água ', \n",
    "                    'Águas e Resíduos', 'Construção', 'Comércio e Automóveis', \n",
    "                    'Transportes e Armazenamento', 'Alojamento, Restauração e Similares'], \n",
    "                   rotation=45, ha='right', fontsize=8)\n",
    "plt.show()\n"
   ]
  },
  {
   "cell_type": "markdown",
   "id": "e81713a6-059d-4e1f-91fc-20edf06ed676",
   "metadata": {},
   "source": [
    "## <span style=\"color:Darkgreen\"> 2. Clustering Transformadores  </span> "
   ]
  },
  {
   "cell_type": "code",
   "execution_count": null,
   "id": "1eed210d-b07d-43a8-ba20-f94f53a0084f",
   "metadata": {},
   "outputs": [],
   "source": [
    "# Bibliotecas \n",
    "import pandas as pd\n",
    "import numpy as np\n",
    "import warnings\n",
    "import re\n",
    "from sklearn.cluster import KMeans\n",
    "from sklearn.preprocessing import StandardScaler\n",
    "import seaborn as sns\n",
    "from collections import Counter\n",
    "import matplotlib.pyplot as plt\n",
    "from sklearn.metrics import silhouette_score\n",
    "from sklearn.decomposition import PCA\n",
    "warnings.filterwarnings(\"ignore\")"
   ]
  },
  {
   "cell_type": "markdown",
   "id": "f78bda44-e915-4d8b-b989-5723ef0c9d79",
   "metadata": {},
   "source": [
    "### <span style=\"color:Darkgreen\"> 2.1. Clustering Transformadores sem CAE  </span> "
   ]
  },
  {
   "cell_type": "code",
   "execution_count": null,
   "id": "bb376d71-9f6d-4b34-8dac-6e99e1eeb7fd",
   "metadata": {},
   "outputs": [],
   "source": [
    "df_clustering2_inicial = pd.read_excel('transformadores_modelos.xlsx')"
   ]
  },
  {
   "cell_type": "code",
   "execution_count": null,
   "id": "7ae0a0ef-da07-40f1-91f7-e9c189a0de4d",
   "metadata": {},
   "outputs": [],
   "source": [
    "df_clustering2_inicial.columns"
   ]
  },
  {
   "cell_type": "code",
   "execution_count": null,
   "id": "2eea7764-05c7-4891-949a-1f94089ee9bd",
   "metadata": {},
   "outputs": [],
   "source": [
    "with pd.option_context('display.max_rows', None, 'display.max_columns', None):\n",
    "    display(df_clustering2_inicial.head())"
   ]
  },
  {
   "cell_type": "code",
   "execution_count": null,
   "id": "cfe872c0-77ad-42c2-98c9-cf798f09c622",
   "metadata": {},
   "outputs": [],
   "source": [
    "# Substituir os valores da coluna 'ler_codigo'\n",
    "df_clustering2_inicial['codigos_ler_associados'] = df_clustering2_inicial['codigos_ler_associados'].replace({\n",
    "    'Compósitos':150105,\n",
    "    'Misturas':150106 ,\n",
    "    'Embalagens c/ resíduos ou contaminadas':150110\n",
    "})"
   ]
  },
  {
   "cell_type": "code",
   "execution_count": null,
   "id": "6c77758d-a90d-4327-84a1-b94d141508d3",
   "metadata": {},
   "outputs": [],
   "source": [
    "media_quantidade_total2 = df_clustering2_inicial['quantidade_total'].mean()\n",
    "media_quantidade_total2"
   ]
  },
  {
   "cell_type": "code",
   "execution_count": null,
   "id": "eb9420c0-f795-43e0-956e-484f12d622d4",
   "metadata": {},
   "outputs": [],
   "source": [
    "df_clustering2_inicial = pd.get_dummies(df_clustering2_inicial, columns=['codigos_ler_associados'])"
   ]
  },
  {
   "cell_type": "code",
   "execution_count": null,
   "id": "f2c46f19-2fe7-45be-b67c-abbf28493d24",
   "metadata": {},
   "outputs": [],
   "source": [
    "df_clustering2_inicial['mercadoria_perigosa_transformada'] = np.where(df_clustering2_inicial['mercadorias_perigosas'], 1, 0)"
   ]
  },
  {
   "cell_type": "code",
   "execution_count": null,
   "id": "5ef230bc-80c9-4e4e-96ef-5c32f3a544d5",
   "metadata": {},
   "outputs": [],
   "source": [
    "df_clustering2_inicial.head()"
   ]
  },
  {
   "cell_type": "code",
   "execution_count": null,
   "id": "96378572-f485-4ab6-9884-5b819027336e",
   "metadata": {},
   "outputs": [],
   "source": [
    "desvio_padrao_quantidade_total2 = df_clustering2_inicial['quantidade_total'].std()\n",
    "\n",
    "# Normalização com Z-Score\n",
    "df_clustering2_inicial['quantidade_total_normalizada'] = df_clustering2_inicial['quantidade_total'].apply(\n",
    "    lambda x: (x - media_quantidade_total2) / desvio_padrao_quantidade_total2\n",
    ")"
   ]
  },
  {
   "cell_type": "code",
   "execution_count": null,
   "id": "69d76e0b-7f1b-46a1-ab84-85cde3386955",
   "metadata": {},
   "outputs": [],
   "source": [
    "df_clustering2_inicial.head()"
   ]
  },
  {
   "cell_type": "code",
   "execution_count": null,
   "id": "85e54bdb-8b2f-4b6d-ab8d-4f9f6b18e3d9",
   "metadata": {},
   "outputs": [],
   "source": [
    "# Boxplot para a variável 'quantidade_total_normalizada' para detetar outliers\n",
    "plt.figure(figsize=(8, 6))\n",
    "sns.boxplot(data=df_clustering2_inicial['quantidade_total_normalizada'])\n",
    "plt.title('Boxplot da Quantidade total Recebida')\n",
    "plt.show()"
   ]
  },
  {
   "cell_type": "code",
   "execution_count": null,
   "id": "67d67ef6-da3f-4fd4-b7c8-658009c92067",
   "metadata": {},
   "outputs": [],
   "source": [
    "df_clustering2_inicial = df_clustering2_inicial[df_clustering2_inicial['quantidade_total_normalizada'] < 5]"
   ]
  },
  {
   "cell_type": "code",
   "execution_count": null,
   "id": "9daa884f-4097-419f-b915-8dc60e20b20a",
   "metadata": {},
   "outputs": [],
   "source": [
    "# Boxplot para a variável 'quantidade_total_normalizada' para detetar outliers\n",
    "plt.figure(figsize=(8, 6))\n",
    "sns.boxplot(data=df_clustering2_inicial['quantidade_total_normalizada'])\n",
    "plt.title('Boxplot da Quantidade total Recebida')\n",
    "plt.show()"
   ]
  },
  {
   "cell_type": "code",
   "execution_count": null,
   "id": "e40f250c-ea8c-4f18-b530-ef1ff0032df3",
   "metadata": {},
   "outputs": [],
   "source": [
    "df_clustering2_inicial = df_clustering2_inicial[df_clustering2_inicial['quantidade_total_normalizada'] < 2]"
   ]
  },
  {
   "cell_type": "code",
   "execution_count": null,
   "id": "96002b39-1633-451d-89bd-a346d9bf1dcb",
   "metadata": {},
   "outputs": [],
   "source": [
    "df_clustering2=df_clustering2_inicial.copy()"
   ]
  },
  {
   "cell_type": "code",
   "execution_count": null,
   "id": "f78a0b69-363f-48ff-bb96-5d22300a43f6",
   "metadata": {},
   "outputs": [],
   "source": [
    "df_clustering_final2 = df_clustering2[['caes_associados']].copy()"
   ]
  },
  {
   "cell_type": "code",
   "execution_count": null,
   "id": "fc66da6c-6739-40df-b235-e222c94ef245",
   "metadata": {},
   "outputs": [],
   "source": [
    "# Selecionar colunas a utilizar no K-means\n",
    "colunas_desejadas = ['quantidade_total_normalizada', 'mercadoria_perigosa_transformada', 'codigos_ler_associados_150105',\n",
    "                     'codigos_ler_associados_150106','codigos_ler_associados_150110' ]  \n",
    "df_clustering2 = df_clustering2[colunas_desejadas]"
   ]
  },
  {
   "cell_type": "code",
   "execution_count": null,
   "id": "a1446dee-08fd-488a-9c7b-dddf5d08c2c3",
   "metadata": {},
   "outputs": [],
   "source": [
    "scaler = StandardScaler()\n",
    "df_scaled2 = scaler.fit_transform(df_clustering2)"
   ]
  },
  {
   "cell_type": "code",
   "execution_count": null,
   "id": "979c7664-a729-4e29-82d5-ac0ab1f025d5",
   "metadata": {},
   "outputs": [],
   "source": [
    "inertias = []\n",
    "\n",
    "# Calcular a inércia para diferentes números de clusters\n",
    "for k in range(1, 11):\n",
    "    kmeans = KMeans(n_clusters=k, random_state=42)\n",
    "    kmeans.fit(df_scaled2)\n",
    "    inertias.append(kmeans.inertia_)\n",
    "\n",
    "plt.figure(figsize=(8, 5))\n",
    "plt.plot(range(1, 11), inertias, marker='o',color='Darkgreen')\n",
    "plt.title('Gráfico do Cotovelo')\n",
    "plt.xlabel('Número de Clusters')\n",
    "plt.ylabel('Inércia')\n",
    "plt.grid(True)\n",
    "plt.show()"
   ]
  },
  {
   "cell_type": "code",
   "execution_count": null,
   "id": "df59529a-8f03-4d33-b8ea-a10e9bcbc89c",
   "metadata": {},
   "outputs": [],
   "source": [
    "# Escolha do número de clusters com base no gráfico anterior\n",
    "k_ideal = 6\n",
    "kmeans = KMeans(n_clusters=k_ideal, random_state=42)\n",
    "df_clustering_final2['cluster'] = kmeans.fit_predict(df_scaled2)"
   ]
  },
  {
   "cell_type": "code",
   "execution_count": null,
   "id": "ced4f708-3da6-4260-bb22-0ad679718d36",
   "metadata": {},
   "outputs": [],
   "source": [
    "# Calcular as médias das variáveis por cluster\n",
    "df_clustering2['cluster'] = kmeans.labels_\n",
    "media_cluster2 = df_clustering2.groupby('cluster').mean()\n",
    "media_cluster2"
   ]
  },
  {
   "cell_type": "code",
   "execution_count": null,
   "id": "853657e6-2079-4660-9382-78a3631b0e97",
   "metadata": {},
   "outputs": [],
   "source": [
    "# Número de transformadores alocados a cada cluster\n",
    "cluster_contagem2 = df_clustering_final2['cluster'].value_counts().sort_index()\n",
    "cluster_contagem2"
   ]
  },
  {
   "cell_type": "code",
   "execution_count": null,
   "id": "7ed5ef41-442d-43bd-97c1-3a1f8bcd3a34",
   "metadata": {},
   "outputs": [],
   "source": [
    "palete = sns.color_palette([\"#003366\",  \"#0033cc\",\"#66b3ff\",\"#003d00\",\"#C0C0C0\",  \"#66cc99\",  \"#800000\", \"#cc6600\"])"
   ]
  },
  {
   "cell_type": "markdown",
   "id": "191d9507-9f8d-4d6a-8124-58e3a550462c",
   "metadata": {},
   "source": [
    "### <span style=\"color:Darkgreen\"> Mercadorias perigosas e Quantidade Recebida </span> "
   ]
  },
  {
   "cell_type": "code",
   "execution_count": null,
   "id": "74ac17af-27a4-44f3-878a-bdb7f9851217",
   "metadata": {},
   "outputs": [],
   "source": [
    "plt.figure(figsize=(8, 5))\n",
    "sns.scatterplot(data=df_clustering2, x='quantidade_total_normalizada', y='mercadoria_perigosa_transformada', hue='cluster', palette=palete, s=100, alpha=0.7)\n",
    "plt.title('Clusters com Mercadorias Perigosas')\n",
    "plt.xlabel('Quantidade Total')\n",
    "plt.ylabel('Mercadoria Perigosa') \n",
    "plt.show()"
   ]
  },
  {
   "cell_type": "code",
   "execution_count": null,
   "id": "a0ae399a-30ef-4034-b2cb-07a531f29ecf",
   "metadata": {},
   "outputs": [],
   "source": [
    "df_merc_perig2 = df_clustering2[df_clustering2['mercadoria_perigosa_transformada'] == 1]\n",
    "\n",
    "# Contar o número de pontos em cada cluster em que é uma mercadoria Perigosa\n",
    "cluster_countagem2 = df_merc_perig2['cluster'].value_counts().reset_index()\n",
    "cluster_countagem2.columns = ['Cluster', 'Contagem']\n",
    "cluster_countagem2"
   ]
  },
  {
   "cell_type": "markdown",
   "id": "f95f47a4-8b87-417f-a8f3-3b85babadcf1",
   "metadata": {},
   "source": [
    "### <span style=\"color:Darkgreen\"> Compósitos (150105) </span> "
   ]
  },
  {
   "cell_type": "code",
   "execution_count": null,
   "id": "2e2f8de7-4e63-4827-8376-d358e1430605",
   "metadata": {},
   "outputs": [],
   "source": [
    "plt.figure(figsize=(10, 6))\n",
    "sns.scatterplot(data=df_clustering2, x='quantidade_total_normalizada', y='codigos_ler_associados_150105', hue='cluster',\n",
    "                palette=palete, s=200, alpha=0.7)\n",
    "plt.title('Clusters com compósitos')\n",
    "plt.xlabel('Quantidade Total')\n",
    "plt.ylabel('Resíduos Compósitos') \n",
    "plt.show()"
   ]
  },
  {
   "cell_type": "code",
   "execution_count": null,
   "id": "bf6e0eeb-8926-458c-8508-1ed265b8629b",
   "metadata": {},
   "outputs": [],
   "source": [
    "df_codigos2_105 = df_clustering2[df_clustering2['codigos_ler_associados_150105'] == 1]\n",
    "# Contar o número de pontos em cada cluster em que é um resíduo Compósito\n",
    "cluster_contagem2 = df_codigos2_105['cluster'].value_counts().reset_index()\n",
    "cluster_contagem2.columns = ['Cluster', 'Count']\n",
    "cluster_contagem2"
   ]
  },
  {
   "cell_type": "code",
   "execution_count": null,
   "id": "b0158401-c4c9-4dbb-ab13-6ed0b0a39736",
   "metadata": {},
   "outputs": [],
   "source": [
    "df_filtered2 = df_clustering2[df_clustering2['codigos_ler_associados_150105'] == 0]\n",
    "\n",
    " # Contar o número de pontos em cada cluster em que não é um resíduo Compósito\n",
    "cluster_contagem2 = df_filtered2['cluster'].value_counts().reset_index()\n",
    "cluster_contagem2.columns = ['Cluster', 'Count']\n",
    "cluster_contagem2"
   ]
  },
  {
   "cell_type": "markdown",
   "id": "80c71e8d-3f53-4fc5-9642-40ce868e56c9",
   "metadata": {},
   "source": [
    "### <span style=\"color:Darkgreen\"> Misutas (150106) </span> "
   ]
  },
  {
   "cell_type": "code",
   "execution_count": null,
   "id": "6994caa9-66fe-4de2-b608-4726b1487ae1",
   "metadata": {},
   "outputs": [],
   "source": [
    "plt.figure(figsize=(10, 6))\n",
    "sns.scatterplot(data=df_clustering2, x='quantidade_total_normalizada', y='codigos_ler_associados_150106', hue='cluster', palette=palete, s=200, alpha=0.7)\n",
    "plt.title('Clusters com Resíduos Mistura')\n",
    "plt.xlabel('Quantidade Total')\n",
    "plt.ylabel('Resíduos Misturas') \n",
    "plt.show()"
   ]
  },
  {
   "cell_type": "code",
   "execution_count": null,
   "id": "d9ff8e03-e52d-4acc-adf8-50e3ef82558e",
   "metadata": {},
   "outputs": [],
   "source": [
    "df_codigos2_106 = df_clustering2[df_clustering2['codigos_ler_associados_150106'] == 1]\n",
    " # Contar o número de pontos em cada cluster em que é uma Mistura\n",
    "cluster_contagem2 = df_codigos2_106['cluster'].value_counts().reset_index()\n",
    "cluster_contagem2.columns = ['Cluster', 'Count']\n",
    "cluster_contagem2"
   ]
  },
  {
   "cell_type": "markdown",
   "id": "5fb0cafd-9ced-4659-bba4-67449006b801",
   "metadata": {},
   "source": [
    "### <span style=\"color:Darkgreen\"> Embalagens c/ resíduos ou contaminadas (150110) </span> "
   ]
  },
  {
   "cell_type": "code",
   "execution_count": null,
   "id": "3e9a8746-fcd2-4e6d-97be-6ecb7892dff8",
   "metadata": {},
   "outputs": [],
   "source": [
    "plt.figure(figsize=(12, 6))\n",
    "sns.scatterplot(data=df_clustering2, x='quantidade_total_normalizada', y='codigos_ler_associados_150110', hue='cluster', \n",
    "                palette=palete, s=200, alpha=0.7)\n",
    "plt.title('Clusters Embalagens c/ resíduos ou contaminadas e Quantidade')\n",
    "plt.xlabel('Quantidade Total')\n",
    "plt.ylabel('Embalagens c/ resíduos ou contaminadas ')\n",
    "plt.show()"
   ]
  },
  {
   "cell_type": "code",
   "execution_count": null,
   "id": "51d33088-55eb-4d1c-be0f-aaebddd6b362",
   "metadata": {},
   "outputs": [],
   "source": [
    "df_codigos2_110 = df_clustering2[df_clustering2['codigos_ler_associados_150110'] == 1]\n",
    "# Contar o número de pontos em cada cluster em que é uma Embalagem c/ resíduos ou contaminadas\n",
    "cluster_contagem2 = df_codigos2_110['cluster'].value_counts().reset_index()\n",
    "cluster_contagem2.columns = ['Cluster', 'Count']\n",
    "cluster_contagem2"
   ]
  },
  {
   "cell_type": "markdown",
   "id": "1895a835-9355-456a-9325-28ba796058ac",
   "metadata": {},
   "source": [
    "### <span style=\"color:Darkgreen\"> Medidas Descritivas do Cluster </span> "
   ]
  },
  {
   "cell_type": "code",
   "execution_count": null,
   "id": "23f4bd51-bd71-4113-9c21-2666255fd0cd",
   "metadata": {},
   "outputs": [],
   "source": [
    "plt.figure(figsize=(12, 6))\n",
    "sns.countplot(data=df_clustering2, x='cluster', color='Darkgreen')\n",
    "plt.title('Número de Pontos em Cada Cluster')\n",
    "plt.show()"
   ]
  },
  {
   "cell_type": "code",
   "execution_count": null,
   "id": "7fa747d1-aaf8-4cea-b254-78c8154863a8",
   "metadata": {},
   "outputs": [],
   "source": [
    "# Medidas Descritivas para cada cluster\n",
    "Estatistica2 = df_clustering2.groupby('cluster').agg({\n",
    "    'quantidade_total_normalizada': ['mean', 'min', 'max'],\n",
    "    'mercadoria_perigosa_transformada': ['mean'],\n",
    "    'codigos_ler_associados_150105': ['mean'],\n",
    "    'codigos_ler_associados_150106': ['mean'],\n",
    "    'codigos_ler_associados_150110': ['mean']\n",
    "}).reset_index()\n",
    "\n",
    "print(\"Estatísticas descritivas por cluster:\")\n",
    "Estatistica2"
   ]
  },
  {
   "cell_type": "code",
   "execution_count": null,
   "id": "d357fa94-b305-4559-824c-b07a0178abf2",
   "metadata": {},
   "outputs": [],
   "source": [
    "# Mapa de calor\n",
    "plt.figure(figsize=(14, 8))\n",
    "ax = sns.heatmap(media_cluster2, annot=True, cmap='Greens', cbar=True)\n",
    "plt.title('Médias das Variáveis por Cluster', fontsize=14)\n",
    "plt.xlabel('Variáveis', fontsize=12)\n",
    "plt.ylabel('Clusters', fontsize=12)\n",
    "ax.set_xticklabels(['Quantidade Total', 'Mercadoria Perigosa', 'Resíduos Compósitos', \n",
    "                    'Resíduos Mistura', 'Resíduos Contaminados'], rotation=45, ha='right', fontsize=8)\n",
    "ax.set_yticklabels(ax.get_yticklabels(), ha='right', fontsize=8)\n",
    "plt.show()"
   ]
  },
  {
   "cell_type": "markdown",
   "id": "a5f65953-977b-4dbc-ab76-1121945d8432",
   "metadata": {},
   "source": [
    "### <span style=\"color:Darkgreen\"> PCA </span> "
   ]
  },
  {
   "cell_type": "code",
   "execution_count": null,
   "id": "4fd89078-fed5-4548-b7ad-e545d1f27521",
   "metadata": {},
   "outputs": [],
   "source": [
    "pca = PCA(n_components=2) \n",
    "df_pca2 = pca.fit_transform(df_scaled2)\n",
    "\n",
    "# Componentes principais e clusters\n",
    "df_pca2 = pd.DataFrame(df_pca2, columns=['PC1', 'PC2'])\n",
    "df_pca2['cluster'] = kmeans.predict(df_scaled2)  # Adicionar a coluna de clusters\n",
    "\n",
    "plt.figure(figsize=(12, 8))\n",
    "sns.scatterplot(x='PC1', y='PC2', hue='cluster', data=df_pca2, palette=palete, edgecolor='w', s=100)\n",
    "plt.title('PCA dos Dados com KMeans Clustering')\n",
    "plt.xlabel('Componente Principal 1')\n",
    "plt.ylabel('Componente Principal 2')\n",
    "plt.legend(title='Cluster')\n",
    "plt.grid(True)\n",
    "plt.show()"
   ]
  },
  {
   "cell_type": "code",
   "execution_count": null,
   "id": "ce4ff0ac-49ec-44e4-bc94-cffd8b607184",
   "metadata": {},
   "outputs": [],
   "source": [
    "silhouette_avg2 = silhouette_score(df_scaled2, df_clustering2['cluster'])\n",
    "print(f'Silhouette Score médio: {silhouette_avg2}')"
   ]
  },
  {
   "cell_type": "code",
   "execution_count": null,
   "id": "9390635c-1e8c-4b01-9975-635e4b89a32a",
   "metadata": {},
   "outputs": [],
   "source": [
    "# Aplicar a função na coluna 'caes_associados' para substituí-la diretamente\n",
    "df_clustering_final2['caes_associados'] = df_clustering_final2['caes_associados'].apply(digito_mais_frequente)\n",
    "\n",
    "# Remover as linhas onde 'caes_associados' é None (ou seja, quando só havia \"Inexistente\")\n",
    "df_clustering_final2.dropna(subset=['caes_associados'], inplace=True)\n",
    "df_clustering_final2[['caes_associados']]"
   ]
  },
  {
   "cell_type": "code",
   "execution_count": null,
   "id": "670e7702-1480-44e7-b72a-7dd0ad7ced6b",
   "metadata": {},
   "outputs": [],
   "source": [
    "top_cae_por_cluster2 = df_clustering_final2.groupby('cluster')['caes_associados'].apply(lambda x: x.value_counts().head(3)).reset_index()\n",
    "top_cae_por_cluster2.columns = ['cluster', 'cae', 'contagem']\n",
    "top_cae_por_cluster2"
   ]
  },
  {
   "cell_type": "markdown",
   "id": "2efa9faf-1849-41d9-934d-2ab9873e504c",
   "metadata": {},
   "source": [
    "### <span style=\"color:Darkgreen\">2.2. Clustering de Transformadores com CAE </span> "
   ]
  },
  {
   "cell_type": "code",
   "execution_count": null,
   "id": "83817fb6-3362-4568-93db-88e9295eab1f",
   "metadata": {},
   "outputs": [],
   "source": [
    "df_cae2=df_clustering2_inicial.copy()"
   ]
  },
  {
   "cell_type": "code",
   "execution_count": null,
   "id": "dd399418-05eb-4d66-b4c9-520d6751da1c",
   "metadata": {},
   "outputs": [],
   "source": [
    "df_cae2.head()"
   ]
  },
  {
   "cell_type": "code",
   "execution_count": null,
   "id": "d9cdc275-f76e-4467-b8be-7c19dd3861d3",
   "metadata": {},
   "outputs": [],
   "source": [
    "# Aplicar a função na coluna 'caes_associados' para substituí-la diretamente\n",
    "df_cae2['caes_associados'] = df_cae2['caes_associados'].apply(digito_mais_frequente)\n",
    "df_cae2.dropna(subset=['caes_associados'], inplace=True)\n",
    "df_cae2[['caes_associados']]\n"
   ]
  },
  {
   "cell_type": "code",
   "execution_count": null,
   "id": "58727957-7b14-4b95-ad24-c05be875932a",
   "metadata": {},
   "outputs": [],
   "source": [
    "df_cae2.head()"
   ]
  },
  {
   "cell_type": "code",
   "execution_count": null,
   "id": "5e25e38f-8019-4ea3-8ec5-332e877cefd8",
   "metadata": {},
   "outputs": [],
   "source": [
    "df_cae2.info()"
   ]
  },
  {
   "cell_type": "code",
   "execution_count": null,
   "id": "3b876ede-3021-44d9-a44f-9d17e765230d",
   "metadata": {},
   "outputs": [],
   "source": [
    "df_cae2 = pd.get_dummies(df_cae2, columns=['caes_associados'])"
   ]
  },
  {
   "cell_type": "code",
   "execution_count": null,
   "id": "bfbccf6b-7dfe-47a2-86c1-6757ef50133e",
   "metadata": {},
   "outputs": [],
   "source": [
    "# Selecionar colunas a utilizar no K-means\n",
    "colunas_desejadas2 = ['quantidade_total_normalizada', 'mercadoria_perigosa_transformada', 'codigos_ler_associados_150105',\n",
    "                     'codigos_ler_associados_150106','codigos_ler_associados_150110','caes_associados_1','caes_associados_2',\n",
    "                     'caes_associados_3','caes_associados_4','caes_associados_5',\n",
    "                     'caes_associados_6','caes_associados_7','caes_associados_8','caes_associados_9' ]  \n",
    "df_transf = df_cae2[colunas_desejadas2]"
   ]
  },
  {
   "cell_type": "code",
   "execution_count": null,
   "id": "06055216-5deb-4c67-b48f-e7daa2e80456",
   "metadata": {},
   "outputs": [],
   "source": [
    "scaler2 = StandardScaler()\n",
    "df_scaled_novo2 = scaler.fit_transform(df_transf)"
   ]
  },
  {
   "cell_type": "code",
   "execution_count": null,
   "id": "c8b77a14-62ba-42e8-a6eb-b773084ed6e0",
   "metadata": {},
   "outputs": [],
   "source": [
    "inertias = []\n",
    "for k in range(1, 21):\n",
    "    kmeans = KMeans(n_clusters=k, random_state=42)\n",
    "    kmeans.fit(df_scaled_novo2)\n",
    "    inertias.append(kmeans.inertia_)\n",
    "    \n",
    "plt.figure(figsize=(8, 5))\n",
    "plt.plot(range(1, 21), inertias, marker='o',color='darkgreen')\n",
    "plt.title('Gráfico do Cotovelo')\n",
    "plt.xlabel('Número de Clusters')\n",
    "plt.ylabel('Inércia')\n",
    "plt.grid(True)\n",
    "plt.show()"
   ]
  },
  {
   "cell_type": "code",
   "execution_count": null,
   "id": "09e662a0-9fb8-4240-a1fb-b2e66ef14254",
   "metadata": {},
   "outputs": [],
   "source": [
    "k_ideal2 = 12\n",
    "kmeans2 = KMeans(n_clusters=k_ideal2, random_state=42)\n",
    "df_transf['cluster'] = kmeans2.fit_predict(df_scaled_novo2)"
   ]
  },
  {
   "cell_type": "code",
   "execution_count": null,
   "id": "30bdc4fd-38c9-4630-b873-f2326a7ba0e8",
   "metadata": {},
   "outputs": [],
   "source": [
    "silhouette_avg_novo2 = silhouette_score(df_scaled_novo2, df_transf['cluster'])\n",
    "print(f'Silhouette Score médio: {silhouette_avg_novo2}')"
   ]
  },
  {
   "cell_type": "code",
   "execution_count": null,
   "id": "ea58cbcf-5f2d-4880-bc16-8a0247c10614",
   "metadata": {},
   "outputs": [],
   "source": [
    "# Calcular as médias das variáveis por cluster\n",
    "cluster_means2_2 = df_transf.groupby('cluster').mean()\n",
    "cluster_means2_2"
   ]
  },
  {
   "cell_type": "code",
   "execution_count": null,
   "id": "b373fc66-98f3-4e05-a459-09e4e1185626",
   "metadata": {},
   "outputs": [],
   "source": [
    "cluster_contagem2_2 = df_transf['cluster'].value_counts().sort_index()\n",
    "cluster_contagem2_2"
   ]
  },
  {
   "cell_type": "code",
   "execution_count": null,
   "id": "569003cc-ef3d-4dfa-b896-cc8ae4d184f2",
   "metadata": {},
   "outputs": [],
   "source": [
    "plt.figure(figsize=(12, 6))\n",
    "sns.countplot(data=df_transf,x='cluster', color='Darkgreen')\n",
    "plt.title('Número de Pontos em Cada Cluster')\n",
    "plt.xlabel('Número do Cluster')\n",
    "plt.ylabel('Contagem de Produtores')\n",
    "plt.show()"
   ]
  },
  {
   "cell_type": "code",
   "execution_count": null,
   "id": "60ce6a53-d853-45ae-8f1f-173adfc0d7ba",
   "metadata": {},
   "outputs": [],
   "source": [
    "plt.figure(figsize=(14, 8))\n",
    "ax= sns.heatmap(cluster_means2_2, annot=True, cmap='Greens', cbar=True)\n",
    "plt.title('Médias das Variáveis por Cluster')\n",
    "num_cols = cluster_means2_2.shape[1]\n",
    "ax.set_xticks([x + 0.5 for x in range(num_cols)])  \n",
    "ax.set_xticklabels(['Quantidade Total', 'Mercadoria Perigosa', 'Resíduos Compósitos', \n",
    "                    'Resíduos Mistura', 'Resíduos Contaminados', 'Agricultura, Animais e Pesca', \n",
    "                    'Industrias Extrativas', 'Indústrias Transformadoras', 'Eletricidade, Gás, Vapor, Água ', \n",
    "                    'Águas e Resíduos', 'Construção', 'Comércio e Automóveis', \n",
    "                    'Transportes e Armazenamento', 'Alojamento, Restauração e Similares'], \n",
    "                   rotation=45, ha='right', fontsize=8)\n",
    "plt.show()"
   ]
  }
 ],
 "metadata": {
  "kernelspec": {
   "display_name": "Python 3 (ipykernel)",
   "language": "python",
   "name": "python3"
  },
  "language_info": {
   "codemirror_mode": {
    "name": "ipython",
    "version": 3
   },
   "file_extension": ".py",
   "mimetype": "text/x-python",
   "name": "python",
   "nbconvert_exporter": "python",
   "pygments_lexer": "ipython3",
   "version": "3.9.19"
  }
 },
 "nbformat": 4,
 "nbformat_minor": 5
}

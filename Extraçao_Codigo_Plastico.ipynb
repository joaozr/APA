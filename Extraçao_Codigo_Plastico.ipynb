{
 "cells": [
  {
   "cell_type": "markdown",
   "id": "8a2d54e1-764b-4644-92b4-5d49181bd9d1",
   "metadata": {},
   "source": [
    "### Deteção de anomalias em dados de gestão de resíduos em Portugal\n",
    "\n",
    "##### João Ribeiro"
   ]
  },
  {
   "cell_type": "code",
   "execution_count": null,
   "id": "e678aa5d",
   "metadata": {},
   "outputs": [],
   "source": [
    "# Bibiliotecas\n",
    "import dask.dataframe as dd\n",
    "import pandas as pd\n",
    "import re\n",
    "import warnings\n",
    "warnings.filterwarnings(\"ignore\")"
   ]
  },
  {
   "cell_type": "code",
   "execution_count": null,
   "id": "43e72244-cd59-44e2-a7d8-24dd2d265cba",
   "metadata": {},
   "outputs": [],
   "source": [
    "# Criação de chunks para ler mais facilmente o ficheiro\n",
    "chunk_size = 10000\n",
    "chunks = pd.read_csv('view_egar_guias_2019_2022.csv', on_bad_lines='skip', delimiter=';', chunksize=chunk_size)"
   ]
  },
  {
   "cell_type": "code",
   "execution_count": null,
   "id": "a6d0e209-22fb-401d-bc93-bb55950413a9",
   "metadata": {},
   "outputs": [],
   "source": [
    "filtered_dfs = []\n",
    "\n",
    "codigo_list = [150102, 150105, 150110, 150106]\n",
    "recebido_codigos = [150102, 150105, 150110, 150106]\n",
    "\n",
    "for chunk in chunks:\n",
    "    filtered_chunk = chunk[(chunk['ler_codigo'].isin(codigo_list)) & (chunk['ler_recebido_codigo'].isin(recebido_codigos))]\n",
    "    filtered_dfs.append(filtered_chunk)"
   ]
  },
  {
   "cell_type": "code",
   "execution_count": null,
   "id": "47bec5ff-f7d3-483f-96a5-16742d2c2fa1",
   "metadata": {},
   "outputs": [],
   "source": [
    "filtered_df = pd.concat(filtered_dfs)"
   ]
  },
  {
   "cell_type": "code",
   "execution_count": null,
   "id": "cb993a73-992b-4c05-8b10-90fcd048bbf8",
   "metadata": {},
   "outputs": [],
   "source": [
    "filtered_df.head()"
   ]
  },
  {
   "cell_type": "code",
   "execution_count": null,
   "id": "8fbaca04-6e8c-4176-871d-9ae75ed2e13b",
   "metadata": {},
   "outputs": [],
   "source": [
    "filtered_df.to_csv('plasticos.csv', index=False)"
   ]
  }
 ],
 "metadata": {
  "kernelspec": {
   "display_name": "Python 3 (ipykernel)",
   "language": "python",
   "name": "python3"
  },
  "language_info": {
   "codemirror_mode": {
    "name": "ipython",
    "version": 3
   },
   "file_extension": ".py",
   "mimetype": "text/x-python",
   "name": "python",
   "nbconvert_exporter": "python",
   "pygments_lexer": "ipython3",
   "version": "3.9.19"
  }
 },
 "nbformat": 4,
 "nbformat_minor": 5
}

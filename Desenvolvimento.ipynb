{
 "cells": [
  {
   "cell_type": "markdown",
   "id": "1b14cd78-e189-4431-ba66-f601bcb79651",
   "metadata": {},
   "source": [
    "### Deteção de anomalias em dados de gestão de resíduos em Portugal\n",
    "\n",
    "##### João Ribeiro"
   ]
  },
  {
   "cell_type": "markdown",
   "id": "25f7afde-6cc9-4583-aef7-3efa9bc5c9fa",
   "metadata": {},
   "source": [
    "## <span style=\"color:Darkgreen\"> Tratamento e Análises  </span> \n",
    "\n",
    "---"
   ]
  },
  {
   "cell_type": "markdown",
   "id": "6d65bef1-2348-43f9-a345-8141d02518b5",
   "metadata": {},
   "source": [
    "### <span style=\"color:Darkgreen\"> Leitura do dataset  </span> "
   ]
  },
  {
   "cell_type": "code",
   "execution_count": null,
   "id": "36ea2240",
   "metadata": {},
   "outputs": [],
   "source": [
    "# Bibliotecas\n",
    "import pandas as pd\n",
    "import numpy as np\n",
    "import warnings\n",
    "from sklearn.cluster import KMeans\n",
    "from sklearn.preprocessing import StandardScaler\n",
    "import seaborn as sns\n",
    "import matplotlib.pyplot as plt\n",
    "import geopandas as gpd\n",
    "from sklearn.metrics import silhouette_score\n",
    "warnings.filterwarnings(\"ignore\")"
   ]
  },
  {
   "cell_type": "code",
   "execution_count": null,
   "id": "4685fc7a",
   "metadata": {},
   "outputs": [],
   "source": [
    "df_inicial = pd.read_csv('view_egar_guias_filtrado.csv', sep=';')"
   ]
  },
  {
   "cell_type": "code",
   "execution_count": null,
   "id": "ee78dc58",
   "metadata": {},
   "outputs": [],
   "source": [
    "with pd.option_context('display.max_rows', None, 'display.max_columns', None):\n",
    "    display(df_inicial.head())"
   ]
  },
  {
   "cell_type": "code",
   "execution_count": null,
   "id": "6a66e865",
   "metadata": {},
   "outputs": [],
   "source": [
    "df_inicial.shape"
   ]
  },
  {
   "cell_type": "markdown",
   "id": "e938b17e",
   "metadata": {},
   "source": [
    "### <span style=\"color:Darkgreen\"> Tratamento  </span> "
   ]
  },
  {
   "cell_type": "code",
   "execution_count": null,
   "id": "a7b783de",
   "metadata": {},
   "outputs": [],
   "source": [
    "column_names = df_inicial.columns.tolist()\n",
    "print(column_names)"
   ]
  },
  {
   "cell_type": "code",
   "execution_count": null,
   "id": "fbd20384",
   "metadata": {},
   "outputs": [],
   "source": [
    "num_linhas = df_inicial.shape[0]\n",
    "print(\"Número de linhas:\", num_linhas)"
   ]
  },
  {
   "cell_type": "code",
   "execution_count": null,
   "id": "12009823",
   "metadata": {},
   "outputs": [],
   "source": [
    "df_inicial.isna().sum()"
   ]
  },
  {
   "cell_type": "code",
   "execution_count": null,
   "id": "6d312803-f3f5-4b6f-8928-b66315761b46",
   "metadata": {},
   "outputs": [],
   "source": [
    "df_inicial.dtypes"
   ]
  },
  {
   "cell_type": "code",
   "execution_count": null,
   "id": "2ea90a43-21cb-4dd2-ab94-4addaa5f174d",
   "metadata": {},
   "outputs": [],
   "source": [
    "# Variável Produtor Origem\n",
    "categorias_produtor_origem = df_inicial['produtor_origem'].value_counts()\n",
    "print(\"Categorias da variável produtor_origem:\")\n",
    "print(categorias_produtor_origem)"
   ]
  },
  {
   "cell_type": "code",
   "execution_count": null,
   "id": "2e1ed3cc-b756-4582-87a8-4f5c3b76d65a",
   "metadata": {},
   "outputs": [],
   "source": [
    "# Variável qualidade\n",
    "categorias_qualidade = df_inicial['qualidade'].value_counts()\n",
    "print(\"Categorias da variável qualidade:\")\n",
    "print(categorias_qualidade)"
   ]
  },
  {
   "cell_type": "code",
   "execution_count": null,
   "id": "2e3ca0a3",
   "metadata": {},
   "outputs": [],
   "source": [
    "df = df_inicial.drop(columns=['fk_guia_acompanhamento_residuos','egar','validacao','criada_por', 'produtor_local','produtor_origem','qualidade','data_estado',\n",
    "                      'dados_transportadores','destinatario_estabelecimento','utilizador_criacao','utilizador_alteracao','grupo_hospitalar',\n",
    "                      'num_plano_gestao_lamas','num_plano_gestao_lamas_recebido'])"
   ]
  },
  {
   "cell_type": "code",
   "execution_count": null,
   "id": "c8c5d5d8-9da6-41bc-8290-5b41c8d20e0d",
   "metadata": {},
   "outputs": [],
   "source": [
    "column_names = df.columns.tolist()\n",
    "print(column_names)"
   ]
  },
  {
   "cell_type": "code",
   "execution_count": null,
   "id": "779def46-d29f-43c4-99e1-dcf4721f333b",
   "metadata": {},
   "outputs": [],
   "source": [
    "df.isna().sum()"
   ]
  },
  {
   "cell_type": "code",
   "execution_count": null,
   "id": "6d4465f8-a467-49f5-9d70-9873cdc29434",
   "metadata": {},
   "outputs": [],
   "source": [
    "df['ler_recebido_codigo'] = df['ler_recebido_codigo'].fillna(df['ler_codigo'])\n",
    "df = df.dropna(subset=['quantidade'])\n",
    "df = df.dropna(subset=['produtor_nif'])\n",
    "df = df.dropna(subset=['tipo_op_codigo'])\n",
    "df['tipo_op_recebido_codigo'] = df['tipo_op_recebido_codigo'].fillna(df['tipo_op_codigo'])\n",
    "df['quantidade_recebida'] = df['quantidade_recebida'].fillna(df['quantidade'])"
   ]
  },
  {
   "cell_type": "code",
   "execution_count": null,
   "id": "ecd6cf7c",
   "metadata": {},
   "outputs": [],
   "source": [
    "# Verificar se há muitos codigos ler recebidos diferentes dos que estão em estudo\n",
    "categorias_ler_recebido_codigo = df['ler_recebido_codigo'].value_counts()\n",
    "print(\"Categorias da variável ler_recebido_codigo:\")\n",
    "print(categorias_ler_recebido_codigo)"
   ]
  },
  {
   "cell_type": "code",
   "execution_count": null,
   "id": "61f14b15-b865-47b9-97bd-181f85982237",
   "metadata": {},
   "outputs": [],
   "source": [
    "# Valores únicos de 'ler_codigo'\n",
    "codigos_unicos = df['ler_codigo'].unique()  # Supondo que você quer os 3 primeiros valores únicos\n",
    "codigos_unicos"
   ]
  },
  {
   "cell_type": "code",
   "execution_count": null,
   "id": "06e7080f-c01c-4140-b8be-3ab18014579e",
   "metadata": {},
   "outputs": [],
   "source": [
    "# Filtrar os registos'ler_recebido_codigo' que não são iguais a nenhum dos códigos'ler_codigo'\n",
    "registos_diferentes = df[~df['ler_recebido_codigo'].isin(codigos_unicos)]\n",
    "total_registos = len(df['ler_recebido_codigo'])\n",
    "contagem_diferentes = len(registos_diferentes)\n",
    "percentagem_diferentes = (contagem_diferentes / total_registos) * 100\n",
    "print(f\"Percentagem de registos diferentes entre ler_codigo e ler_codigo_recebido: {percentagem_diferentes:.2f}%\")\n",
    "print(f\"Número de linhas que correspondem aos registos diferentes: {contagem_diferentes}\")"
   ]
  },
  {
   "cell_type": "code",
   "execution_count": null,
   "id": "6b400a67-df44-4cb3-86fb-193193543076",
   "metadata": {},
   "outputs": [],
   "source": [
    "# Valores únicos de 'ler_codigo'\n",
    "codigos_unicos = df['ler_recebido_codigo'].unique()\n",
    "codigos_unicos"
   ]
  },
  {
   "cell_type": "code",
   "execution_count": null,
   "id": "ba7bb3fb-01c3-44d3-b0fe-51606b40a4a4",
   "metadata": {},
   "outputs": [],
   "source": [
    "codigos_filtrar = [150106, 150105, 150110]\n",
    "df = df[df['ler_recebido_codigo'].isin(codigos_filtrar)]"
   ]
  },
  {
   "cell_type": "code",
   "execution_count": null,
   "id": "9bb89010-cd08-42bd-ace0-56d354005ceb",
   "metadata": {},
   "outputs": [],
   "source": [
    "df = df.drop(columns=['ler_perigosidade','ler_recebido_perigosidade'])"
   ]
  },
  {
   "cell_type": "code",
   "execution_count": null,
   "id": "9f3d4098",
   "metadata": {},
   "outputs": [],
   "source": [
    "num_colunas = df.shape[1]\n",
    "print(f'O número de colunas é: {num_colunas}')"
   ]
  },
  {
   "cell_type": "code",
   "execution_count": null,
   "id": "ac00aced",
   "metadata": {},
   "outputs": [],
   "source": [
    "# Substituir os valores da coluna 'ler_codigo'\n",
    "df['ler_codigo'] = df['ler_codigo'].replace({\n",
    "    150105: 'Compósitos',\n",
    "    150106: 'Misturas',\n",
    "    150110: 'Embalagens c/ resíduos ou contaminadas'\n",
    "})"
   ]
  },
  {
   "cell_type": "code",
   "execution_count": null,
   "id": "0fbf6b80-c341-418d-9c43-130b97402bbe",
   "metadata": {},
   "outputs": [],
   "source": [
    "# Substituir os valores da coluna 'ler_recebido_codigo'\n",
    "df['ler_recebido_codigo'] = df['ler_recebido_codigo'].replace({\n",
    "    150105: 'Compósitos',\n",
    "    150106: 'Misturas',\n",
    "    150110: 'Embalagens c/ resíduos ou contaminadas'\n",
    "})"
   ]
  },
  {
   "cell_type": "code",
   "execution_count": null,
   "id": "d47aced5",
   "metadata": {
    "scrolled": true
   },
   "outputs": [],
   "source": [
    "with pd.option_context('display.max_rows', None, 'display.max_columns', None):\n",
    "    display(df.head())"
   ]
  },
  {
   "cell_type": "code",
   "execution_count": null,
   "id": "d89715b7-2bbe-449a-8cd5-7d1907125054",
   "metadata": {},
   "outputs": [],
   "source": [
    "df.shape"
   ]
  },
  {
   "cell_type": "markdown",
   "id": "2df6d4b1",
   "metadata": {},
   "source": [
    "## <span style=\"color:Darkgreen\"> Análise de variáveis relevantes  </span> "
   ]
  },
  {
   "cell_type": "markdown",
   "id": "1e316c93",
   "metadata": {},
   "source": [
    "#### <span style=\"color:Darkgreen\"> Variável Estado  </span> "
   ]
  },
  {
   "cell_type": "code",
   "execution_count": null,
   "id": "ae30f64d",
   "metadata": {},
   "outputs": [],
   "source": [
    "# Variável estado\n",
    "categorias_estado = df['estado'].value_counts()\n",
    "print(\"Categorias da variável estado:\")\n",
    "print(categorias_estado)"
   ]
  },
  {
   "cell_type": "code",
   "execution_count": null,
   "id": "9f2fcf91",
   "metadata": {
    "scrolled": true
   },
   "outputs": [],
   "source": [
    "# Gerar a tabela de percentagens entre 'ler_codigo' e 'estado'\n",
    "tabela_estado_percentagens = pd.crosstab(df['ler_codigo'], df['estado'], normalize='index') * 100\n",
    "tabela_estado_percentagens = tabela_estado_percentagens.round(2)\n",
    "print(\"Tabela % 'estado' e 'ler_codigo':\")\n",
    "tabela_estado_percentagens"
   ]
  },
  {
   "cell_type": "markdown",
   "id": "cf2c2266",
   "metadata": {},
   "source": [
    "#### <span style=\"color:Darkgreen\">Variável mercadorias perigosas </span> "
   ]
  },
  {
   "cell_type": "code",
   "execution_count": null,
   "id": "d78e35f1",
   "metadata": {},
   "outputs": [],
   "source": [
    "# Variável mercadorias_perigosas\n",
    "categorias_mercadorias_perigosas = df['mercadorias_perigosas'].value_counts()\n",
    "print(\"Categorias da variável mercadorias perigosas:\")\n",
    "print(categorias_mercadorias_perigosas)"
   ]
  },
  {
   "cell_type": "code",
   "execution_count": null,
   "id": "17736acc",
   "metadata": {},
   "outputs": [],
   "source": [
    "# Tabela % 'mercadorias_perigosas' e 'ler_codigo'\n",
    "tabela_mercadperigosas_percentagens = (pd.crosstab( df['ler_codigo'],df['mercadorias_perigosas'],normalize='index') * 100).round(2)\n",
    "print(\"Tabela %'mercadorias_perigosas' e 'ler_codigo':\")\n",
    "tabela_mercadperigosas_percentagens"
   ]
  },
  {
   "cell_type": "markdown",
   "id": "d27c74f6",
   "metadata": {},
   "source": [
    "#### <span style=\"color:Darkgreen\">Variável Quantidade </span> "
   ]
  },
  {
   "cell_type": "code",
   "execution_count": null,
   "id": "d9dcbfbd",
   "metadata": {},
   "outputs": [],
   "source": [
    "# Agrupar por codigo e somar quantidades de cada um\n",
    "quantidade_total_por_codigo = df.groupby('ler_codigo')['quantidade'].sum()\n",
    "\n",
    "# Quantidade total produzida para cada código\n",
    "print(\"Quantidade total produzida para cada código:\")\n",
    "print(quantidade_total_por_codigo)"
   ]
  },
  {
   "cell_type": "code",
   "execution_count": null,
   "id": "90a9aaef",
   "metadata": {},
   "outputs": [],
   "source": [
    "# Converter de quilogramas para toneladas\n",
    "quantidade_total_por_codigo_toneladas = (quantidade_total_por_codigo / 1000).round(2)\n",
    "print(\"Quantidade total produzida para cada código em toneladas:\")\n",
    "print(quantidade_total_por_codigo_toneladas)"
   ]
  },
  {
   "cell_type": "code",
   "execution_count": null,
   "id": "53f2dedd",
   "metadata": {},
   "outputs": [],
   "source": [
    "# Agrupar por codigo e somar quantidades recebidas de cada um\n",
    "quantidade_recebida_por_codigo = df.groupby('ler_recebido_codigo')['quantidade_recebida'].sum()\n",
    "\n",
    "# Quantidade total produzida para cada código\n",
    "print(\"Quantidade recebida para cada código:\")\n",
    "print(quantidade_recebida_por_codigo)"
   ]
  },
  {
   "cell_type": "code",
   "execution_count": null,
   "id": "f733a684",
   "metadata": {},
   "outputs": [],
   "source": [
    "# Converter de quilogramas para toneladas quantidade recebida\n",
    "quantidade_recebida_por_codigo_toneladas = (quantidade_recebida_por_codigo / 1000).round(2)\n",
    "print(\"Quantidade recebida para cada código em toneladas:\")\n",
    "print(quantidade_recebida_por_codigo_toneladas)"
   ]
  },
  {
   "cell_type": "code",
   "execution_count": null,
   "id": "5c5c13b3-45d3-487b-a137-1e8a50e15054",
   "metadata": {},
   "outputs": [],
   "source": [
    "df_filt = df[df['estado'] == 'Concluída (certificado de receção)']\n",
    "df_filt['quantidade_toneladas'] = df_filt['quantidade'] / 1000\n",
    "df_filt['quantidade_recebida_toneladas'] = df_filt['quantidade_recebida'] / 1000\n",
    "df_filt['diferenca'] = df_filt['quantidade_toneladas'] != df_filt['quantidade_recebida_toneladas']\n",
    "df_diff = df_filt.groupby('ler_codigo').agg(\n",
    "    diferenca_toneladas=('quantidade_toneladas', lambda x: x.sum() - df_filt.loc[x.index, 'quantidade_recebida_toneladas'].sum()),\n",
    "    operacoes_diferenca=('diferenca', 'sum')  # Conta o número de operações com diferenças\n",
    ").reset_index()\n",
    "\n",
    "df_diff"
   ]
  },
  {
   "cell_type": "code",
   "execution_count": null,
   "id": "a43cc828-2a35-479c-851e-1c0fd9464995",
   "metadata": {},
   "outputs": [],
   "source": [
    "plt.figure(figsize=(10, 8))\n",
    "sns.boxplot(x='ler_codigo', y='diferenca_toneladas', data=df_filt, color='#026460')\n",
    "plt.ylim(-30, 55)  \n",
    "plt.xlabel('Tipo de Resíduo', fontsize=12)\n",
    "plt.ylabel('Diferença em Toneladas', fontsize=12)\n",
    "plt.xticks(rotation=0)\n",
    "plt.tight_layout()\n",
    "plt.grid(True, axis='y', linestyle='--', linewidth=0.5)\n",
    "plt.show()"
   ]
  },
  {
   "cell_type": "code",
   "execution_count": null,
   "id": "82d27aea-87f1-4a76-aa36-f453383a224a",
   "metadata": {},
   "outputs": [],
   "source": [
    "df_filt2 = df[df['estado'] == 'Corrigida']\n",
    "df_filt2['quantidade_toneladas'] = df_filt2['quantidade'] / 1000\n",
    "df_filt2['quantidade_recebida_toneladas'] = df_filt2['quantidade_recebida'] / 1000\n",
    "df_filt2['diferenca'] = df_filt2['quantidade_toneladas'] != df_filt2['quantidade_recebida_toneladas']\n",
    "df_diff2 = df_filt2.groupby('ler_codigo').agg(\n",
    "    diferenca_toneladas=('quantidade_toneladas', lambda x: x.sum() - df_filt2.loc[x.index, 'quantidade_recebida_toneladas'].sum()),\n",
    "    operacoes_diferenca=('diferenca', 'sum') \n",
    ").reset_index()\n",
    "df_diff2"
   ]
  },
  {
   "cell_type": "code",
   "execution_count": null,
   "id": "ac29cd57-6288-42fd-9a01-7b6d572dcec9",
   "metadata": {},
   "outputs": [],
   "source": [
    "plt.figure(figsize=(10, 8))\n",
    "sns.boxplot(x='ler_codigo', y='diferenca_toneladas', data=df_filt2, color='#026460')\n",
    "plt.ylim(-15, 10)\n",
    "plt.xlabel('Tipo de Resíduo', fontsize=12)\n",
    "plt.ylabel('Diferença em Toneladas', fontsize=12)\n",
    "plt.xticks(rotation=0)\n",
    "plt.tight_layout()\n",
    "plt.grid(True, axis='y', linestyle='--', linewidth=0.5)\n",
    "plt.show()"
   ]
  },
  {
   "cell_type": "code",
   "execution_count": null,
   "id": "f8785eaa-20e2-4648-9dba-a1667a91a432",
   "metadata": {},
   "outputs": [],
   "source": [
    "df_filt = df[df['estado'] == 'Concluída (certificado de receção)']\n",
    "df_count = df_filt.groupby('ler_codigo').size().reset_index(name='numero_de_registos')\n",
    "df_count"
   ]
  },
  {
   "cell_type": "markdown",
   "id": "8aeb9516",
   "metadata": {},
   "source": [
    "#### <span style=\"color:Darkgreen\">Variável Nome do Produtor  </span> "
   ]
  },
  {
   "cell_type": "code",
   "execution_count": null,
   "id": "9848ef84",
   "metadata": {},
   "outputs": [],
   "source": [
    "# Top 10 dos produtores que aparecem mais vezes entre 2019 e 2022\n",
    "produtor_top10 = df['produtor_nome'].value_counts().head(10)\n",
    "print(\"Top 10 produtores:\")\n",
    "produtor_top10"
   ]
  },
  {
   "cell_type": "code",
   "execution_count": null,
   "id": "4b1b14d4-1ce7-4645-91d0-516f34682c11",
   "metadata": {},
   "outputs": [],
   "source": [
    "# # Top 5 de produtores por codigo\n",
    "pd.set_option('display.max_colwidth', None)\n",
    "contagem_produtores = (df.groupby(['ler_codigo', 'produtor_nome']).size().reset_index(name='count'))\n",
    "contagem_produtores = contagem_produtores.sort_values(['ler_codigo', 'count'], ascending=[True, False])\n",
    "top_produtores = contagem_produtores.groupby('ler_codigo').head(5)\n",
    "print(\"Top 5 de produtores que aparecem por código:\")\n",
    "top_produtores"
   ]
  },
  {
   "cell_type": "markdown",
   "id": "b07f98f4",
   "metadata": {},
   "source": [
    "#### <span style=\"color:Darkgreen\"> Variável Nome do Destinatário</span> "
   ]
  },
  {
   "cell_type": "code",
   "execution_count": null,
   "id": "97a472ca",
   "metadata": {},
   "outputs": [],
   "source": [
    "# Top 10 dos tranformadores que aparecem mais vezes entre 2019 e 2022\n",
    "transformador_top10 = df['destinatario_nome'].value_counts().head(10)\n",
    "print(\"Top 10 transformadores:\")\n",
    "print(transformador_top10)"
   ]
  },
  {
   "cell_type": "code",
   "execution_count": null,
   "id": "c1d7e08e-0dd2-43f2-9ebd-59adfa4db20c",
   "metadata": {},
   "outputs": [],
   "source": [
    "# Top 5 de transformadores por codigo\n",
    "pd.set_option('display.max_colwidth', None)\n",
    "contagem_transformadores = (df.groupby(['ler_codigo', 'destinatario_nome']).size().reset_index(name='count'))\n",
    "contagem_transformadores = contagem_transformadores.sort_values(['ler_codigo', 'count'], ascending=[True, False])\n",
    "top_transformadores = contagem_transformadores.groupby('ler_codigo').head(5)\n",
    "print(\"Top 5 de transformadores que aparecem por código:\")\n",
    "top_transformadores"
   ]
  },
  {
   "cell_type": "code",
   "execution_count": null,
   "id": "625116a7",
   "metadata": {},
   "outputs": [],
   "source": [
    "# Produtores e destinatários\n",
    "df_prod_dest = df[df['estado'] == 'Concluída (certificado de receção)']\n",
    "produtores = set(df_prod_dest['produtor_nome'].dropna().unique())\n",
    "destinatarios = set(df_prod_dest['destinatario_nome'].dropna().unique())\n",
    "produtores_e_destinatarios = produtores.intersection(destinatarios)\n",
    "print(\"Produtores que também são destinatários:\")\n",
    "for nome in produtores_e_destinatarios:\n",
    "    print(nome)"
   ]
  },
  {
   "cell_type": "code",
   "execution_count": null,
   "id": "cf06752e-32f3-4dc7-984e-5d2406ed9bb9",
   "metadata": {},
   "outputs": [],
   "source": [
    "# Contar quantos produtores são também destinatários\n",
    "count_produtores_e_destinatarios = len(produtores_e_destinatarios)\n",
    "print(\"\\nQuantidade de produtores que também são destinatários:\",count_produtores_e_destinatarios)"
   ]
  },
  {
   "cell_type": "markdown",
   "id": "428bf000",
   "metadata": {},
   "source": [
    "#### <span style=\"color:Darkgreen\"> Média do início e fim de transporte</span> "
   ]
  },
  {
   "cell_type": "code",
   "execution_count": null,
   "id": "8e726f90-da7a-4f5b-87db-b1d800cc90e2",
   "metadata": {},
   "outputs": [],
   "source": [
    "# Converter colunas para datetime\n",
    "df['data_inicio_transporte'] = pd.to_datetime(df['data_inicio_transporte'])\n",
    "df['data_fim_transporte'] = pd.to_datetime(df['data_fim_transporte'])\n",
    "\n",
    "# Filtrar registos que têm data_fim_transporte não nulo\n",
    "df_filtrado = df.dropna(subset=['data_fim_transporte'])\n",
    "\n",
    "# Diferença entre data_fim_transporte e data_inicio_transporte\n",
    "df_filtrado['diferenca_tempo'] = df_filtrado['data_fim_transporte'] - df_filtrado['data_inicio_transporte']\n",
    "\n",
    "# Extrair dias, horas e minutos da diferença de tempo\n",
    "df_filtrado['horas'] = df_filtrado['diferenca_tempo'].dt.components['hours']\n",
    "df_filtrado['minutos'] = df_filtrado['diferenca_tempo'].dt.components['minutes']\n",
    "\n",
    "# Calcular o total de horas e minutos\n",
    "df_filtrado['total_minutos'] = df_filtrado['horas'] * 60 + df_filtrado['minutos']\n",
    "\n",
    "df_media_tempo = df_filtrado.groupby('ler_codigo')['total_minutos'].mean().reset_index()\n",
    "df_media_tempo['horas'] = df_media_tempo['total_minutos'] // 60\n",
    "df_media_tempo['minutos'] = df_media_tempo['total_minutos'] % 60\n",
    "df_media_tempo['media_tempo'] = df_media_tempo.apply(lambda row: f\"{int(row['horas'])}h{int(row['minutos'])}min\", axis=1)\n",
    "df_media_tempo.drop(['total_minutos', 'horas', 'minutos'], axis=1, inplace=True)\n",
    "print(df_media_tempo)\n"
   ]
  },
  {
   "cell_type": "code",
   "execution_count": null,
   "id": "3f083d01-56cb-4554-8c40-9c1f5140cf95",
   "metadata": {},
   "outputs": [],
   "source": [
    "# Boxplot whiskers - distribuição dos tempos de transporte por tipo de resíduo\n",
    "plt.figure(figsize=(10, 6))\n",
    "df_filtrado.boxplot(column='horas', by='ler_codigo', grid=False)\n",
    "plt.xlabel('Tipo de Resíduo')\n",
    "plt.ylabel('Total de Horas')\n",
    "labels = ['Compósitos', 'Contaminadas', 'Misturas']\n",
    "plt.xticks(ticks=[1, 2, 3], labels=labels, rotation=45, ha='right')\n",
    "plt.tight_layout() \n",
    "plt.show()"
   ]
  },
  {
   "cell_type": "markdown",
   "id": "45264086",
   "metadata": {},
   "source": [
    "#### <span style=\"color:Darkgreen\"> Análise por Anos </span> "
   ]
  },
  {
   "cell_type": "code",
   "execution_count": null,
   "id": "fdf601ca",
   "metadata": {},
   "outputs": [],
   "source": [
    "# Coluna 'data_criacao' para datetime\n",
    "df['data_criacao'] = pd.to_datetime(df['data_criacao'])\n",
    "\n",
    "# Extrair o ano da coluna 'data_criacao'\n",
    "df['ano'] = df['data_criacao'].dt.year\n",
    "df['quantidade_toneladas'] = df['quantidade'] / 1000\n",
    "df['quantidade_recebida_toneladas'] = df['quantidade_recebida'] / 1000\n",
    "\n",
    "# Agrupar por ano e código LER e soma das quantidades enviadas\n",
    "agg_df = df.groupby(['ano', 'ler_codigo']).agg({\n",
    "    'quantidade_toneladas': 'sum'\n",
    "}).reset_index()\n",
    "\n",
    "palette = sns.color_palette(\"dark:#5A9_r\", n_colors=5)\n",
    "plt.figure(figsize=(10, 6))\n",
    "\n",
    "top_ler_codigos = agg_df['ler_codigo'].value_counts().index[:5]\n",
    "for i, ler_codigo in enumerate(top_ler_codigos):\n",
    "    subset = agg_df[agg_df['ler_codigo'] == ler_codigo]\n",
    "    plt.plot(subset['ano'], subset['quantidade_toneladas'], marker='o', color=palette[i], label=f'{ler_codigo}')\n",
    "\n",
    "plt.title('Evolução da Quantidade Enviada ao Longo dos Anos por Tipo de Resíduo', fontsize=14)\n",
    "plt.xlabel('Ano', fontsize=12)\n",
    "plt.ylabel('Quantidade (Toneladas)', fontsize=12)\n",
    "plt.xticks([2019, 2020, 2021, 2022], fontsize=10)\n",
    "plt.yticks(fontsize=10)\n",
    "plt.grid(True, which='both', linestyle='--', linewidth=0.5, axis='y') \n",
    "plt.legend(title='Tipo de Resíduo', fontsize=10, title_fontsize=12, loc='center left', bbox_to_anchor=(1.1, 0.5))\n",
    "sns.despine()\n",
    "plt.show()\n",
    "# Exibir os valores exatos para cada ler_codigo ao longo dos anos\n",
    "for ler_codigo in agg_df['ler_codigo'].unique():\n",
    "    print(f\"\\nValores para o código LER: {ler_codigo}\")\n",
    "    print(agg_df[agg_df['ler_codigo'] == ler_codigo][['ano', 'quantidade_toneladas']])"
   ]
  },
  {
   "cell_type": "code",
   "execution_count": null,
   "id": "46c82ec5-51a5-41e2-881f-824ab08a2e32",
   "metadata": {},
   "outputs": [],
   "source": [
    "# Calcular a diferença de quantidade em relação ao ano anterior e a % de crescimento\n",
    "agg_df['pct_change'] = agg_df.groupby('ler_codigo')['quantidade_toneladas'].pct_change() * 100\n",
    "\n",
    "# Tabela com as percentagens de crescimento/descida\n",
    "tabela_pct_change = agg_df[['ano', 'ler_codigo', 'quantidade_toneladas', 'pct_change']].dropna()\n",
    "\n",
    "tabela_pct_change"
   ]
  },
  {
   "cell_type": "code",
   "execution_count": null,
   "id": "30ed2ce1",
   "metadata": {},
   "outputs": [],
   "source": [
    "# Agrupar por ano e código LER e soma das quantidades recebidas\n",
    "agg_df = df.groupby(['ano', 'ler_codigo']).agg({\n",
    "    'quantidade_recebida_toneladas': 'sum'\n",
    "}).reset_index()\n",
    "\n",
    "palette = sns.color_palette(\"dark:#5A9_r\", n_colors=5)\n",
    "plt.figure(figsize=(10, 6))\n",
    "\n",
    "\n",
    "top_ler_codigos = agg_df['ler_codigo'].value_counts().index[:5]\n",
    "for i, ler_codigo in enumerate(top_ler_codigos):\n",
    "    subset = agg_df[agg_df['ler_codigo'] == ler_codigo]\n",
    "    plt.plot(subset['ano'], subset['quantidade_recebida_toneladas'], marker='o', color=palette[i], label=f'{ler_codigo}')\n",
    "\n",
    "plt.title('Evolução da Quantidade Recebida ao Longo dos Anos por Tipo de Resíduo', fontsize=14)\n",
    "plt.xlabel('Ano', fontsize=12)\n",
    "plt.ylabel('Quantidade Recebida (Toneladas)', fontsize=12)\n",
    "plt.xticks([2019, 2020, 2021, 2022], fontsize=10)\n",
    "plt.yticks(fontsize=10)\n",
    "plt.grid(True, which='both', linestyle='--', linewidth=0.5, axis='y')\n",
    "plt.legend(title='Tipo de Resíduo', fontsize=10, title_fontsize=12, loc='center left', bbox_to_anchor=(1.1, 0.5))\n",
    "sns.despine()\n",
    "plt.show()"
   ]
  },
  {
   "cell_type": "code",
   "execution_count": null,
   "id": "f88fd377-ce83-4b17-8743-e2ade0019635",
   "metadata": {},
   "outputs": [],
   "source": [
    "# Calcular a diferença de quantidade em relação ao ano anterior e a % de crescimento\n",
    "agg_df['pct_change'] = agg_df.groupby('ler_codigo')['quantidade_recebida_toneladas'].pct_change() * 100\n",
    "\n",
    "# Tabela com as percentagens de crescimento/descida\n",
    "tabela_pct_change = agg_df[['ano', 'ler_codigo', 'quantidade_recebida_toneladas', 'pct_change']].dropna()\n",
    "\n",
    "tabela_pct_change"
   ]
  },
  {
   "cell_type": "code",
   "execution_count": null,
   "id": "1e1e9439-de79-4b86-9753-99d492f91419",
   "metadata": {},
   "outputs": [],
   "source": [
    "# Extrair o mês da coluna 'data_criacao'\n",
    "df['mes'] = df['data_criacao'].dt.month\n",
    "\n",
    "# Agrupar por ano, mês e código LER e soma das quantidades enviadas\n",
    "agg_quantidade = df.groupby(['ano', 'mes', 'ler_codigo']).agg({\n",
    "    'quantidade_toneladas': 'sum'\n",
    "}).reset_index()\n",
    "anos = sorted(df['ano'].unique())\n",
    "palette = sns.color_palette(\"dark:#5A9_r\", n_colors=5)\n",
    "fig, axes = plt.subplots(len(anos), 1, figsize=(10, 20), sharex=False, sharey=False, gridspec_kw={'hspace': 0.4})  # Gráficos independentes\n",
    "anos = sorted(df['ano'].unique())\n",
    "\n",
    "for i, ano in enumerate(anos):\n",
    "    data_ano = agg_quantidade[agg_quantidade['ano'] == ano]\n",
    "    ax = axes[i] if len(anos) > 1 else axes  # Corrige se houver apenas um ano\n",
    "    for j, ler_codigo in enumerate(data_ano['ler_codigo'].unique()):\n",
    "        data_ler = data_ano[data_ano['ler_codigo'] == ler_codigo]\n",
    "        ax.plot(data_ler['mes'], data_ler['quantidade_toneladas'], marker='o', color=palette[j], label=f'{ler_codigo}')\n",
    "    \n",
    "    ax.set_title(f'Evolução da Quantidade Enviada por Mês em {ano}', fontsize=12)\n",
    "    ax.set_ylabel('Quantidade (Toneladas)', fontsize=10)\n",
    "    ax.set_xticks(range(1, 13))\n",
    "    ax.set_xticklabels(['Jan', 'Fev', 'Mar', 'Abr', 'Mai', 'Jun', 'Jul', 'Ago', 'Set', 'Out', 'Nov', 'Dez'], fontsize=8)\n",
    "    ax.tick_params(axis='both', which='major', labelsize=8)\n",
    "    ax.grid(True, which='both', linestyle='--', linewidth=0.5, axis='y')\n",
    "    ax.legend(title='Tipo de Resíduo', fontsize=8, title_fontsize=10, bbox_to_anchor=(1.05, 1), loc='upper left')\n",
    "\n",
    "plt.tight_layout()\n",
    "sns.despine()\n",
    "plt.show()\n"
   ]
  },
  {
   "cell_type": "code",
   "execution_count": null,
   "id": "6ce866bf-a533-4fbd-a052-feafeb14ed01",
   "metadata": {},
   "outputs": [],
   "source": [
    "# Extrair o mês da coluna 'data_criacao'\n",
    "df['mes'] = df['data_criacao'].dt.month\n",
    "\n",
    "# Agrupar por ano, mês e código LER e soma das quantidades recebidas\n",
    "agg_quantidade = df.groupby(['ano', 'mes', 'ler_codigo']).agg({\n",
    "    'quantidade_recebida_toneladas': 'sum'\n",
    "}).reset_index()\n",
    "anos = sorted(df['ano'].unique())\n",
    "palette = sns.color_palette(\"dark:#5A9_r\", n_colors=5)\n",
    "fig, axes = plt.subplots(len(anos), 1, figsize=(10, 20), sharex=False, sharey=False, gridspec_kw={'hspace': 0.4})  # Gráficos independentes\n",
    "anos = sorted(df['ano'].unique())\n",
    "\n",
    "for i, ano in enumerate(anos):\n",
    "    data_ano = agg_quantidade[agg_quantidade['ano'] == ano]\n",
    "    ax = axes[i] if len(anos) > 1 else axes  # Corrige se houver apenas um ano\n",
    "    for j, ler_codigo in enumerate(data_ano['ler_codigo'].unique()):\n",
    "        data_ler = data_ano[data_ano['ler_codigo'] == ler_codigo]\n",
    "        ax.plot(data_ler['mes'], data_ler['quantidade_recebida_toneladas'], marker='o', color=palette[j], label=f'{ler_codigo}')\n",
    "    \n",
    "    ax.set_title(f'Evolução da Quantidade Recebida por Mês em {ano}', fontsize=12)\n",
    "    ax.set_ylabel('Quantidade Recebida (Toneladas)', fontsize=10)\n",
    "    ax.set_xticks(range(1, 13))\n",
    "    ax.set_xticklabels(['Jan', 'Fev', 'Mar', 'Abr', 'Mai', 'Jun', 'Jul', 'Ago', 'Set', 'Out', 'Nov', 'Dez'], fontsize=8)\n",
    "    ax.tick_params(axis='both', which='major', labelsize=8)\n",
    "    ax.grid(True, which='both', linestyle='--', linewidth=0.5, axis='y')\n",
    "    ax.legend(title='Tipo de Resíduo', fontsize=8, title_fontsize=10, bbox_to_anchor=(1.05, 1), loc='upper left')\n",
    "\n",
    "plt.tight_layout()\n",
    "sns.despine()\n",
    "plt.show()\n"
   ]
  },
  {
   "cell_type": "markdown",
   "id": "5aef035d",
   "metadata": {},
   "source": [
    "### <span style=\"color:Darkgreen\"> Análise por Código de Atividade Económica (CAE) e Distrito  </span> "
   ]
  },
  {
   "cell_type": "code",
   "execution_count": null,
   "id": "9111a24f",
   "metadata": {},
   "outputs": [],
   "source": [
    " CAES = pd.read_excel('CAES_Distritos.xlsx')"
   ]
  },
  {
   "cell_type": "code",
   "execution_count": null,
   "id": "ca4e80f8",
   "metadata": {
    "scrolled": true
   },
   "outputs": [],
   "source": [
    "CAES.head()"
   ]
  },
  {
   "cell_type": "code",
   "execution_count": null,
   "id": "838076a0",
   "metadata": {},
   "outputs": [],
   "source": [
    "merged_df = df.merge(CAES, left_on='produtor_nif', right_on='nif_organizacao', how='left')"
   ]
  },
  {
   "cell_type": "code",
   "execution_count": null,
   "id": "9ebe4d2b",
   "metadata": {},
   "outputs": [],
   "source": [
    "# Substituir valores NAs por 'Inexistente'\n",
    "merged_df['cae'] = merged_df['cae'].fillna('Inexistente')\n",
    "merged_df['codigo_cae'] = merged_df['codigo_cae'].fillna('Inexistente')"
   ]
  },
  {
   "cell_type": "code",
   "execution_count": null,
   "id": "c9275586",
   "metadata": {},
   "outputs": [],
   "source": [
    "with pd.option_context('display.max_rows', None, 'display.max_columns', None):\n",
    "    display(merged_df.head())"
   ]
  },
  {
   "cell_type": "code",
   "execution_count": null,
   "id": "4357c0e3-cf65-4510-a065-74e7e9e0d306",
   "metadata": {},
   "outputs": [],
   "source": [
    "mapa= merged_df.copy()"
   ]
  },
  {
   "cell_type": "code",
   "execution_count": null,
   "id": "76fa3a50",
   "metadata": {},
   "outputs": [],
   "source": [
    "merged_df = merged_df.drop(columns=['nif_organizacao'])"
   ]
  },
  {
   "cell_type": "code",
   "execution_count": null,
   "id": "b3ca175e",
   "metadata": {},
   "outputs": [],
   "source": [
    "merged_df.info()"
   ]
  },
  {
   "cell_type": "code",
   "execution_count": null,
   "id": "d03630f1",
   "metadata": {},
   "outputs": [],
   "source": [
    "inexistente_count = (merged_df['cae'] == 'Inexistente').sum()\n",
    "\n",
    "print(f\"Quantidade de 'codigo_cae' com 'Inexistente': {inexistente_count}\")"
   ]
  },
  {
   "cell_type": "code",
   "execution_count": null,
   "id": "04f25bab",
   "metadata": {},
   "outputs": [],
   "source": [
    "# Filtrar CAEs Inexistentes\n",
    "inexistentes_df = merged_df[merged_df['cae'] == 'Inexistente']\n",
    "inexistentes_count_df = inexistentes_df.groupby('ler_codigo').size().reset_index(name='inexistente_count')\n",
    "inexistentes_count_df"
   ]
  },
  {
   "cell_type": "code",
   "execution_count": null,
   "id": "b7222bd0",
   "metadata": {},
   "outputs": [],
   "source": [
    "# CAEs únicos associados a cada ler_codigo\n",
    "grouped = merged_df.groupby('ler_codigo')['codigo_cae'].apply(lambda x: ', '.join(map(str, x.unique()))).reset_index()\n",
    "\n",
    "# Número de CAEs únicos para cada ler_codigo\n",
    "grouped['count_cae'] = merged_df.groupby('ler_codigo')['codigo_cae'].nunique().values\n",
    "grouped.columns = ['ler_codigo', 'codigo_cae_associados', 'count_cae']\n",
    "grouped"
   ]
  },
  {
   "cell_type": "code",
   "execution_count": null,
   "id": "6c4f0767-e10a-4387-b37b-76d4c8956eba",
   "metadata": {},
   "outputs": [],
   "source": [
    "# Filtra os registos onde o codigo_cae não é 'Inexistente'\n",
    "filtered_df = merged_df[merged_df['codigo_cae'] != 'Inexistente']\n",
    "\n",
    "# Agrupar por ler_codigo e cae e contar as ocorrências de codigo_cae\n",
    "top_caes = (\n",
    "    filtered_df.groupby(['ler_codigo', 'cae'])['codigo_cae']\n",
    "    .count()\n",
    "    .groupby(level=0, group_keys=False)\n",
    "    .nlargest(5)\n",
    "    .reset_index(name='count')\n",
    ")\n",
    "top_caes"
   ]
  },
  {
   "cell_type": "code",
   "execution_count": null,
   "id": "a215f6ac-7a25-41c3-85f2-1596487e5f9f",
   "metadata": {},
   "outputs": [],
   "source": [
    "print(mapa['distrito'])"
   ]
  },
  {
   "cell_type": "code",
   "execution_count": null,
   "id": "7cd29996-e654-4a75-8495-1c0aec08f22b",
   "metadata": {},
   "outputs": [],
   "source": [
    "mapa = mapa.dropna(subset=['distrito'])"
   ]
  },
  {
   "cell_type": "code",
   "execution_count": null,
   "id": "11f416b5-98e4-40c2-8831-a9c9268c3c1b",
   "metadata": {},
   "outputs": [],
   "source": [
    "mapa.head()"
   ]
  },
  {
   "cell_type": "code",
   "execution_count": null,
   "id": "e8d5f71d-930b-48b6-bab6-0f8e85fa2a52",
   "metadata": {},
   "outputs": [],
   "source": [
    "agrupado_df = merged_df.groupby('distrito')['quantidade_toneladas'].sum().reset_index()\n",
    "\n",
    "# Ordena o DataFrame agrupado pela soma das quantidades em ordem decrescente\n",
    "agrupado_df_ordenado = agrupado_df.sort_values(by='quantidade_toneladas', ascending=False)\n",
    "agrupado_df_ordenado =agrupado_df_ordenado.round(1)\n",
    "agrupado_df_ordenado"
   ]
  },
  {
   "cell_type": "code",
   "execution_count": null,
   "id": "44b092e6-b523-48e1-8d1d-ece1d2975c4f",
   "metadata": {},
   "outputs": [],
   "source": [
    "# Agrupar os dados por 'distrito' e 'ano', somando a 'quantidade_toneladas'\n",
    "agrupado_df = merged_df.groupby(['distrito', 'ano'])['quantidade_toneladas'].sum().reset_index()\n",
    "agrupado_pivot = agrupado_df.pivot(index='distrito', columns='ano', values='quantidade_toneladas').reset_index()\n",
    "agrupado_pivot = agrupado_pivot.fillna(0)\n",
    "agrupado_pivot = agrupado_pivot.round(1)\n",
    "agrupado_pivot = agrupado_pivot.sort_values(by=agrupado_pivot.columns[-1], ascending=False)\n",
    "agrupado_pivot"
   ]
  },
  {
   "cell_type": "markdown",
   "id": "aa923512",
   "metadata": {},
   "source": [
    "## <span style=\"color:Darkgreen\"> Análise de Produtores  </span> "
   ]
  },
  {
   "cell_type": "code",
   "execution_count": null,
   "id": "6df14ebe",
   "metadata": {},
   "outputs": [],
   "source": [
    "df_produtores = merged_df.copy()"
   ]
  },
  {
   "cell_type": "code",
   "execution_count": null,
   "id": "11cf55dc",
   "metadata": {},
   "outputs": [],
   "source": [
    "# Extrair o ano da coluna 'data_criacao'\n",
    "df_produtores['ano'] = pd.to_datetime(df_produtores['data_criacao']).dt.year"
   ]
  },
  {
   "cell_type": "code",
   "execution_count": null,
   "id": "f86abdec",
   "metadata": {
    "scrolled": true
   },
   "outputs": [],
   "source": [
    "def join_unique(series):\n",
    "    # Converte a série para uma lista de strings, remove duplicados e ordena\n",
    "    unique_sorted_list = sorted(set(map(str, series)))\n",
    "    # Junta os elementos numa string separada por vírgulas\n",
    "    return ', '.join(unique_sorted_list)\n",
    "\n",
    "# Agrupar os dados por produtor\n",
    "df_produtores['mercadorias_perigosas'] = df_produtores['mercadorias_perigosas'].astype(bool)\n",
    "produtores_df = df_produtores.groupby('produtor_nome').agg(\n",
    "    quantidade_total=('quantidade', 'sum'), # KG\n",
    "    caes_associados=('codigo_cae', join_unique),\n",
    "    codigos_ler_associados=('ler_codigo', join_unique),\n",
    "    estado=('estado', join_unique),\n",
    "    mercadorias_perigosas=('mercadorias_perigosas', 'max')  \n",
    ").reset_index()\n",
    "produtores_df.head(3)\n"
   ]
  },
  {
   "cell_type": "code",
   "execution_count": null,
   "id": "3609cf28",
   "metadata": {},
   "outputs": [],
   "source": [
    "# Contar a quantidade por ano e adicionar como colunas\n",
    "quantidade_por_ano = df_produtores.pivot_table(index='produtor_nome', columns='ano', values='quantidade', aggfunc='sum', fill_value=0).reset_index()\n",
    "quantidade_por_ano.columns = ['produtor_nome'] + [f'quantidade_{col}' for col in quantidade_por_ano.columns[1:]]\n",
    "\n",
    "# Unir os DataFrames resultantes\n",
    "produtores_df = pd.merge(produtores_df, quantidade_por_ano, on='produtor_nome', how='left')\n",
    "produtores_df.head(3)\n"
   ]
  },
  {
   "cell_type": "code",
   "execution_count": null,
   "id": "639ba2e3-98a1-49be-be61-6a0a3a5e65e6",
   "metadata": {},
   "outputs": [],
   "source": [
    "# Remover espaços em branco e ordenar os valores em caes_associados para garantir que sejam comparáveis\n",
    "produtores_df['caes_associados'] = produtores_df['caes_associados'].str.strip().apply(lambda x: ', '.join(sorted(x.split(', '))))\n",
    "\n",
    "# Contar as ocorrências de cada valor único em caes_associados\n",
    "caes_counts_large = produtores_df['caes_associados'].value_counts().reset_index()\n",
    "caes_counts_large.columns = ['caes_associados', 'count']\n",
    "\n",
    "# Top 10 valores mais repetidos em caes_associados\n",
    "top_10_caes_large = caes_counts_large.head(11)\n",
    "top_10_caes_large\n"
   ]
  },
  {
   "cell_type": "code",
   "execution_count": null,
   "id": "baf228ef-b06a-4f8b-9d70-fc7c6f71fbd5",
   "metadata": {},
   "outputs": [],
   "source": [
    "df_produtores_filtrado = produtores_df[produtores_df['estado'] == 'Concluída (certificado de receção)']\n",
    "df_produtores_filtrado['caes_associados'] = df_produtores_filtrado['caes_associados'].str.strip().apply(lambda x: ', '.join(sorted(x.split(', '))))\n",
    "df_single_cae_produtores = df_produtores_filtrado[~df_produtores_filtrado['caes_associados'].str.contains(',')]\n",
    "caes_counts_single_produtores = df_single_cae_produtores['caes_associados'].value_counts().reset_index()\n",
    "caes_counts_single_produtores.columns = ['caes_associados', 'count']\n",
    "top_10_caes_single_produtores = caes_counts_single_produtores.head(10)\n",
    "top_10_caes_single_produtores"
   ]
  },
  {
   "cell_type": "code",
   "execution_count": null,
   "id": "c6b96db6-f8cb-49ce-a758-8bea2d55743e",
   "metadata": {},
   "outputs": [],
   "source": [
    "filtered_df_produtores = produtores_df[\n",
    "    (produtores_df['mercadorias_perigosas'] == True) & \n",
    "    (produtores_df['estado'] == 'Concluída (certificado de receção)')\n",
    "]\n",
    "caes_counts_produtores = filtered_df_produtores['caes_associados'].str.split(', ').explode().value_counts().reset_index()\n",
    "caes_counts_produtores.columns = ['caes_associados', 'count']\n",
    "\n",
    "# Top 5 mais frequentes\n",
    "top_5_caes_produtores = caes_counts_produtores.head(6)\n",
    "top_5_caes_produtores"
   ]
  },
  {
   "cell_type": "markdown",
   "id": "9c14898a",
   "metadata": {},
   "source": [
    "## <span style=\"color:Darkgreen\"> Análise de Transformadores  </span> "
   ]
  },
  {
   "cell_type": "code",
   "execution_count": null,
   "id": "9f31bf5a",
   "metadata": {},
   "outputs": [],
   "source": [
    "df_transformadores = merged_df.copy()"
   ]
  },
  {
   "cell_type": "code",
   "execution_count": null,
   "id": "7dd194c0-b6f2-4902-88f4-106b1e43b5e8",
   "metadata": {},
   "outputs": [],
   "source": [
    "with pd.option_context('display.max_rows', None, 'display.max_columns', None):\n",
    "    display(df_transformadores.head())"
   ]
  },
  {
   "cell_type": "code",
   "execution_count": null,
   "id": "f789b522",
   "metadata": {},
   "outputs": [],
   "source": [
    "# Extrair o ano da coluna 'data_criacao'\n",
    "df_transformadores['ano'] = pd.to_datetime(df_transformadores['data_criacao']).dt.year"
   ]
  },
  {
   "cell_type": "code",
   "execution_count": null,
   "id": "4775c841",
   "metadata": {},
   "outputs": [],
   "source": [
    "# Contar a quantidade por ano e adicionar como colunas\n",
    "quantidade_por_ano = df_transformadores.pivot_table(index='destinatario_nome', columns='ano', values='quantidade_recebida', aggfunc='sum', fill_value=0).reset_index()\n",
    "quantidade_por_ano.columns = ['destinatario_nome'] + [f'quantidade_recebida{col}' for col in quantidade_por_ano.columns[1:]]"
   ]
  },
  {
   "cell_type": "code",
   "execution_count": null,
   "id": "b17f4afd",
   "metadata": {},
   "outputs": [],
   "source": [
    "def join_unique(series):\n",
    "    # Converte a série para uma lista de strings, remove duplicados e ordena\n",
    "    unique_sorted_list = sorted(set(map(str, series)))\n",
    "    # Junta os elementos em uma única string separada por vírgulas\n",
    "    return ', '.join(unique_sorted_list)\n",
    "\n",
    "# Agrupa os dados por transformador\n",
    "df_transformadores['mercadorias_perigosas'] = df_transformadores['mercadorias_perigosas'].astype(bool)\n",
    "transformadores_df = df_transformadores.groupby('destinatario_nome').agg(\n",
    "    quantidade_total=('quantidade_recebida', 'sum'),\n",
    "    caes_associados=('codigo_cae', join_unique),\n",
    "    codigos_ler_associados=('ler_codigo', join_unique),\n",
    "    estado=('estado', join_unique),\n",
    "    mercadorias_perigosas=('mercadorias_perigosas', 'max') # se tiver true em algum registo retorna true \n",
    ").reset_index()\n",
    "transformadores_df.head(3)"
   ]
  },
  {
   "cell_type": "code",
   "execution_count": null,
   "id": "b4fa5634",
   "metadata": {},
   "outputs": [],
   "source": [
    "# Contar a quantidade por ano e adicionar como colunas\n",
    "quantidade_por_ano = df_transformadores.pivot_table(index='destinatario_nome', columns='ano', values='quantidade_recebida', aggfunc='sum', fill_value=0).reset_index()\n",
    "quantidade_por_ano.columns = ['destinatario_nome'] + [f'quantidade_recebida_{col}' for col in quantidade_por_ano.columns[1:]]\n",
    "# Unir \n",
    "transformadores_df = pd.merge(transformadores_df, quantidade_por_ano, on='destinatario_nome', how='left')\n",
    "transformadores_df.head(3)"
   ]
  },
  {
   "cell_type": "code",
   "execution_count": null,
   "id": "7d47dc0b-25d3-4037-8348-9217f0d0f120",
   "metadata": {},
   "outputs": [],
   "source": [
    "df_transformadores_filtrado = transformadores_df[transformadores_df['estado'] == 'Concluída (certificado de receção)']\n",
    "df_transformadores_filtrado['caes_associados'] = df_transformadores_filtrado['caes_associados'].str.strip().apply(lambda x: ', '.join(sorted(x.split(', '))))\n",
    "df_single_cae = df_transformadores_filtrado[~df_transformadores_filtrado['caes_associados'].str.contains(',')]\n",
    "caes_counts_single = df_single_cae['caes_associados'].value_counts().reset_index()\n",
    "caes_counts_single.columns = ['caes_associados', 'count']\n",
    "top_10_caes_single = caes_counts_single.head(10)\n",
    "top_10_caes_single"
   ]
  },
  {
   "cell_type": "code",
   "execution_count": null,
   "id": "b31341d6",
   "metadata": {},
   "outputs": [],
   "source": [
    "filtered_df = transformadores_df[\n",
    "    (transformadores_df['mercadorias_perigosas'] == True) & \n",
    "    (transformadores_df['estado'] == 'Concluída (certificado de receção)')]\n",
    "caes_counts = filtered_df['caes_associados'].str.split(', ').explode().value_counts().reset_index()\n",
    "caes_counts.columns = ['caes_associados', 'count']\n",
    "\n",
    "# Top 5 mais frequentes\n",
    "top_5_caes = caes_counts.head(6)\n",
    "top_5_caes"
   ]
  },
  {
   "cell_type": "code",
   "execution_count": null,
   "id": "cc470442-6a3a-464a-ae81-fb6817c9adc8",
   "metadata": {},
   "outputs": [],
   "source": [
    "# Filtrar para obter a linha onde 'caes_associados' é '46750.0'\n",
    "filtered_cae_46750 = filtered_df[filtered_df['caes_associados'].str.contains('46750.0', na=False)]\n",
    "filtered_cae_46750[['destinatario_nome', 'caes_associados']]"
   ]
  },
  {
   "cell_type": "markdown",
   "id": "91708a8c-53a7-418d-9e5a-bf7d741dac78",
   "metadata": {},
   "source": [
    "## <span style=\"color:Darkgreen\"> Análise de Plásticos  </span> "
   ]
  },
  {
   "cell_type": "code",
   "execution_count": null,
   "id": "319beacf-72c1-4308-b888-851bf403ef80",
   "metadata": {},
   "outputs": [],
   "source": [
    "plasticos = pd.read_csv('plasticos.csv', delimiter=',',on_bad_lines='skip')"
   ]
  },
  {
   "cell_type": "code",
   "execution_count": null,
   "id": "173d418a-07e8-49e7-b5ab-bff58a3e912c",
   "metadata": {
    "scrolled": true
   },
   "outputs": [],
   "source": [
    "plasticos.head()"
   ]
  },
  {
   "cell_type": "code",
   "execution_count": null,
   "id": "aa859f3b-ac89-4c47-828e-df601e608e2e",
   "metadata": {},
   "outputs": [],
   "source": [
    "# Substituir os valores da coluna 'ler_codigo'\n",
    "plasticos['ler_codigo'] = plasticos['ler_codigo'].replace({\n",
    "    150102:'Plásticos',\n",
    "    150105: 'Compósitos',\n",
    "    150106: 'Misturas',\n",
    "    150110: 'Embalagens c/ resíduos ou contaminadas'\n",
    "})"
   ]
  },
  {
   "cell_type": "code",
   "execution_count": null,
   "id": "637ff156-18ba-4929-b2d9-29d9060bdcaa",
   "metadata": {},
   "outputs": [],
   "source": [
    "# Substituir os valores da coluna 'ler_recebido_codigo'\n",
    "plasticos['ler_recebido_codigo'] = plasticos['ler_recebido_codigo'].replace({\n",
    "    150102:'Plásticos',\n",
    "    150105: 'Compósitos',\n",
    "    150106: 'Misturas',\n",
    "    150110: 'Embalagens c/ resíduos ou contaminadas'\n",
    "})"
   ]
  },
  {
   "cell_type": "code",
   "execution_count": null,
   "id": "355d9779-3023-4eee-903e-1e9258525242",
   "metadata": {},
   "outputs": [],
   "source": [
    "plasticos.head()"
   ]
  },
  {
   "cell_type": "code",
   "execution_count": null,
   "id": "dcdfb94b-289d-4189-9483-ac426c755917",
   "metadata": {},
   "outputs": [],
   "source": [
    "contingencia = pd.crosstab(plasticos['ler_codigo'], plasticos['ler_recebido_codigo'])\n",
    "total_registos = len(plasticos)\n",
    "percentagens = (contingencia / total_registos) * 100\n",
    "percentagens = percentagens.round(1)\n",
    "print(\"Tabela de Percentagens:\")\n",
    "percentagens"
   ]
  },
  {
   "cell_type": "code",
   "execution_count": null,
   "id": "8b441f1d-8642-474c-9c07-d900db6219c4",
   "metadata": {},
   "outputs": [],
   "source": [
    "plt.figure(figsize=(10, 8))\n",
    "ax = sns.heatmap(percentagens, annot=True, cmap='Greens', fmt=\".1f\", cbar_kws={'label': 'Percentagem'})\n",
    "plt.title('Mapa de Calor das Percentagens de Classificação de Resíduos', fontsize=14)\n",
    "plt.xlabel('Classificação do Destinatário', fontsize=12)\n",
    "plt.ylabel('Classificação do Produtor', fontsize=12)\n",
    "ax.set_xticklabels(ax.get_xticklabels(), rotation=45, ha='right', fontsize=8)\n",
    "ax.set_yticklabels(ax.get_yticklabels(), rotation=45, ha='right', fontsize=8)\n",
    "plt.show()"
   ]
  }
 ],
 "metadata": {
  "kernelspec": {
   "display_name": "Python 3 (ipykernel)",
   "language": "python",
   "name": "python3"
  },
  "language_info": {
   "codemirror_mode": {
    "name": "ipython",
    "version": 3
   },
   "file_extension": ".py",
   "mimetype": "text/x-python",
   "name": "python",
   "nbconvert_exporter": "python",
   "pygments_lexer": "ipython3",
   "version": "3.9.19"
  }
 },
 "nbformat": 4,
 "nbformat_minor": 5
}

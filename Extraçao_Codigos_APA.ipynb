{
 "cells": [
  {
   "cell_type": "markdown",
   "id": "40ca61ef-b69f-4616-9cd6-0513faa52bad",
   "metadata": {},
   "source": [
    "### Deteção de anomalias em dados de gestão de resíduos em Portugal\n",
    "\n",
    "##### João Ribeiro"
   ]
  },
  {
   "cell_type": "code",
   "execution_count": null,
   "id": "36ea2240",
   "metadata": {},
   "outputs": [],
   "source": [
    "# Bibiliotecas\n",
    "import dask.dataframe as dd\n",
    "import pandas as pd\n",
    "import re\n",
    "import warnings\n",
    "warnings.filterwarnings(\"ignore\")"
   ]
  },
  {
   "cell_type": "code",
   "execution_count": null,
   "id": "cff82b3f",
   "metadata": {},
   "outputs": [],
   "source": [
    "# leitura\n",
    "df = dd.read_csv('view_egar_guias_2019_2022.csv', sep=';', dtype=str, error_bad_lines=False)"
   ]
  },
  {
   "cell_type": "code",
   "execution_count": null,
   "id": "35ecddbb",
   "metadata": {},
   "outputs": [],
   "source": [
    "num_colunas =len(df.columns)\n",
    "print(f'Número de colunas: {num_colunas}')"
   ]
  },
  {
   "cell_type": "code",
   "execution_count": null,
   "id": "e75ade51",
   "metadata": {},
   "outputs": [],
   "source": [
    "num_linhas =df.shape[0].compute()\n",
    "print(f'Número de linhas: {num_linhas}')"
   ]
  },
  {
   "cell_type": "code",
   "execution_count": null,
   "id": "2b80db30",
   "metadata": {},
   "outputs": [],
   "source": [
    "lista_colunas=df.columns.tolist()\n",
    "print(f'Lista de colunas: {lista_colunas}')"
   ]
  },
  {
   "cell_type": "code",
   "execution_count": null,
   "id": "4008904a",
   "metadata": {},
   "outputs": [],
   "source": [
    "# Filtrar pelos códigos pretendidos\n",
    "df_filtrado = df[df['ler_codigo'].isin(['150105', '150106', '150110'])]"
   ]
  },
  {
   "cell_type": "code",
   "execution_count": null,
   "id": "e8e4afa9",
   "metadata": {},
   "outputs": [],
   "source": [
    "df_filtrado.to_csv('view_egar_guias_filtrado.csv', sep=';', index=False, single_file=True)"
   ]
  },
  {
   "cell_type": "code",
   "execution_count": null,
   "id": "e73a1bb2",
   "metadata": {},
   "outputs": [],
   "source": [
    "with pd.option_context('display.max_rows', None, 'display.max_columns', None):\n",
    "    display(df_filtrado.head(15))"
   ]
  }
 ],
 "metadata": {
  "kernelspec": {
   "display_name": "Python 3 (ipykernel)",
   "language": "python",
   "name": "python3"
  },
  "language_info": {
   "codemirror_mode": {
    "name": "ipython",
    "version": 3
   },
   "file_extension": ".py",
   "mimetype": "text/x-python",
   "name": "python",
   "nbconvert_exporter": "python",
   "pygments_lexer": "ipython3",
   "version": "3.9.19"
  }
 },
 "nbformat": 4,
 "nbformat_minor": 5
}
